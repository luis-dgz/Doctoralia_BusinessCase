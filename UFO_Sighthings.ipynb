{
 "cells": [
  {
   "cell_type": "markdown",
   "metadata": {},
   "source": [
    "# UFO Sighthings  \n",
    "\n",
    "Se provee una base de datos que contiene avistamientos de ovnis en años pasados. Se pide Responder algunas preguntas respecto a estos avistamientos:   \n",
    "1. ¿Dónde dirías que es más probable tener avistamientos ovnis?\n",
    "2. ¿Observas algún tipo de patrón en los avistamientos a lo largo del tiempo? ¿Crees que exista alguna estacionalidad en los eventos?\n",
    "3. ¿Qué correlaciones encuentras con los lugares donde hubo avistamientos?\n",
    "4. ¿En general, cómo se ve los ovnis que se describen en los avistamientos?\n",
    "\n"
   ]
  },
  {
   "cell_type": "markdown",
   "metadata": {},
   "source": [
    "## Análisis Exploratorio de Datos"
   ]
  },
  {
   "cell_type": "code",
   "execution_count": 87,
   "metadata": {},
   "outputs": [
    {
     "data": {
      "text/html": [
       "<div>\n",
       "<style scoped>\n",
       "    .dataframe tbody tr th:only-of-type {\n",
       "        vertical-align: middle;\n",
       "    }\n",
       "\n",
       "    .dataframe tbody tr th {\n",
       "        vertical-align: top;\n",
       "    }\n",
       "\n",
       "    .dataframe thead th {\n",
       "        text-align: right;\n",
       "    }\n",
       "</style>\n",
       "<table border=\"1\" class=\"dataframe\">\n",
       "  <thead>\n",
       "    <tr style=\"text-align: right;\">\n",
       "      <th></th>\n",
       "      <th>datetime</th>\n",
       "      <th>city</th>\n",
       "      <th>state</th>\n",
       "      <th>country</th>\n",
       "      <th>shape</th>\n",
       "      <th>duration (seconds)</th>\n",
       "      <th>duration (hours/min)</th>\n",
       "      <th>comments</th>\n",
       "      <th>date posted</th>\n",
       "      <th>latitude</th>\n",
       "      <th>longitude</th>\n",
       "    </tr>\n",
       "  </thead>\n",
       "  <tbody>\n",
       "    <tr>\n",
       "      <th>0</th>\n",
       "      <td>10/10/1949 20:30</td>\n",
       "      <td>san marcos</td>\n",
       "      <td>tx</td>\n",
       "      <td>us</td>\n",
       "      <td>cylinder</td>\n",
       "      <td>2700</td>\n",
       "      <td>45 minutes</td>\n",
       "      <td>This event took place in early fall around 194...</td>\n",
       "      <td>4/27/2004</td>\n",
       "      <td>29.8830556</td>\n",
       "      <td>-97.9411111</td>\n",
       "    </tr>\n",
       "    <tr>\n",
       "      <th>1</th>\n",
       "      <td>10/10/1949 21:00</td>\n",
       "      <td>lackland afb</td>\n",
       "      <td>tx</td>\n",
       "      <td>NaN</td>\n",
       "      <td>light</td>\n",
       "      <td>7200</td>\n",
       "      <td>1-2 hrs</td>\n",
       "      <td>1949 Lackland AFB&amp;#44 TX.  Lights racing acros...</td>\n",
       "      <td>12/16/2005</td>\n",
       "      <td>29.38421</td>\n",
       "      <td>-98.581082</td>\n",
       "    </tr>\n",
       "    <tr>\n",
       "      <th>2</th>\n",
       "      <td>10/10/1955 17:00</td>\n",
       "      <td>chester (uk/england)</td>\n",
       "      <td>NaN</td>\n",
       "      <td>gb</td>\n",
       "      <td>circle</td>\n",
       "      <td>20</td>\n",
       "      <td>20 seconds</td>\n",
       "      <td>Green/Orange circular disc over Chester&amp;#44 En...</td>\n",
       "      <td>1/21/2008</td>\n",
       "      <td>53.2</td>\n",
       "      <td>-2.916667</td>\n",
       "    </tr>\n",
       "    <tr>\n",
       "      <th>3</th>\n",
       "      <td>10/10/1956 21:00</td>\n",
       "      <td>edna</td>\n",
       "      <td>tx</td>\n",
       "      <td>us</td>\n",
       "      <td>circle</td>\n",
       "      <td>20</td>\n",
       "      <td>1/2 hour</td>\n",
       "      <td>My older brother and twin sister were leaving ...</td>\n",
       "      <td>1/17/2004</td>\n",
       "      <td>28.9783333</td>\n",
       "      <td>-96.6458333</td>\n",
       "    </tr>\n",
       "    <tr>\n",
       "      <th>4</th>\n",
       "      <td>10/10/1960 20:00</td>\n",
       "      <td>kaneohe</td>\n",
       "      <td>hi</td>\n",
       "      <td>us</td>\n",
       "      <td>light</td>\n",
       "      <td>900</td>\n",
       "      <td>15 minutes</td>\n",
       "      <td>AS a Marine 1st Lt. flying an FJ4B fighter/att...</td>\n",
       "      <td>1/22/2004</td>\n",
       "      <td>21.4180556</td>\n",
       "      <td>-157.8036111</td>\n",
       "    </tr>\n",
       "  </tbody>\n",
       "</table>\n",
       "</div>"
      ],
      "text/plain": [
       "           datetime                  city state country     shape  \\\n",
       "0  10/10/1949 20:30            san marcos    tx      us  cylinder   \n",
       "1  10/10/1949 21:00          lackland afb    tx     NaN     light   \n",
       "2  10/10/1955 17:00  chester (uk/england)   NaN      gb    circle   \n",
       "3  10/10/1956 21:00                  edna    tx      us    circle   \n",
       "4  10/10/1960 20:00               kaneohe    hi      us     light   \n",
       "\n",
       "  duration (seconds) duration (hours/min)  \\\n",
       "0               2700           45 minutes   \n",
       "1               7200              1-2 hrs   \n",
       "2                 20           20 seconds   \n",
       "3                 20             1/2 hour   \n",
       "4                900           15 minutes   \n",
       "\n",
       "                                            comments date posted    latitude  \\\n",
       "0  This event took place in early fall around 194...   4/27/2004  29.8830556   \n",
       "1  1949 Lackland AFB&#44 TX.  Lights racing acros...  12/16/2005    29.38421   \n",
       "2  Green/Orange circular disc over Chester&#44 En...   1/21/2008        53.2   \n",
       "3  My older brother and twin sister were leaving ...   1/17/2004  28.9783333   \n",
       "4  AS a Marine 1st Lt. flying an FJ4B fighter/att...   1/22/2004  21.4180556   \n",
       "\n",
       "      longitude  \n",
       "0   -97.9411111  \n",
       "1    -98.581082  \n",
       "2     -2.916667  \n",
       "3   -96.6458333  \n",
       "4  -157.8036111  "
      ]
     },
     "execution_count": 87,
     "metadata": {},
     "output_type": "execute_result"
    }
   ],
   "source": [
    "# Lectura del file\n",
    "import pandas as pd\n",
    "import csv\n",
    "\n",
    "ufo_raw = pd.read_csv(\"Business case/UFO_sightings.csv\",\n",
    "                        sep=\",\",\n",
    "                        quotechar='\"',\n",
    "                        dtype=str,\n",
    "                        engine=\"python\",\n",
    "                        on_bad_lines=\"skip\"\n",
    "    )\n",
    "\n",
    "ufo_raw.head()"
   ]
  },
  {
   "cell_type": "code",
   "execution_count": 88,
   "metadata": {},
   "outputs": [
    {
     "name": "stdout",
     "output_type": "stream",
     "text": [
      "<class 'pandas.core.frame.DataFrame'>\n",
      "RangeIndex: 88679 entries, 0 to 88678\n",
      "Data columns (total 11 columns):\n",
      " #   Column                Non-Null Count  Dtype \n",
      "---  ------                --------------  ----- \n",
      " 0   datetime              88679 non-null  object\n",
      " 1   city                  88679 non-null  object\n",
      " 2   state                 81270 non-null  object\n",
      " 3   country               76314 non-null  object\n",
      " 4   shape                 85757 non-null  object\n",
      " 5   duration (seconds)    88677 non-null  object\n",
      " 6   duration (hours/min)  85660 non-null  object\n",
      " 7   comments              88644 non-null  object\n",
      " 8   date posted           88679 non-null  object\n",
      " 9   latitude              88679 non-null  object\n",
      " 10  longitude             88679 non-null  object\n",
      "dtypes: object(11)\n",
      "memory usage: 7.4+ MB\n"
     ]
    }
   ],
   "source": [
    "ufo_raw.info()"
   ]
  },
  {
   "cell_type": "markdown",
   "metadata": {},
   "source": [
    "### Revisión de la temporalidad"
   ]
  },
  {
   "cell_type": "code",
   "execution_count": 89,
   "metadata": {},
   "outputs": [],
   "source": [
    "# Limpieza de las variables\n",
    "df_ufo = ufo_raw.copy() # Trabajar un df nuevo con los ajustes y preservar el original.\n",
    "# Convertir columnas 'datetime' y 'date posted' al tipo datetime\n",
    "df_ufo[\"datetime\"] = pd.to_datetime(df_ufo[\"datetime\"], errors=\"coerce\")\n",
    "df_ufo[\"date posted\"] = pd.to_datetime(df_ufo[\"date posted\"], errors=\"coerce\")\n",
    "# Crear columna con año-mes\n",
    "df_ufo[\"year_month\"] = df_ufo[\"datetime\"].dt.to_period(\"M\").astype(str)\n",
    "# Conteo por año-mes\n",
    "conteo_mensual = df_ufo[\"year_month\"].value_counts().sort_index()"
   ]
  },
  {
   "cell_type": "code",
   "execution_count": 93,
   "metadata": {},
   "outputs": [
    {
     "data": {
      "image/png": "[encoded data removed]",
      "text/plain": [
       "<Figure size 1500x500 with 1 Axes>"
      ]
     },
     "metadata": {},
     "output_type": "display_data"
    }
   ],
   "source": [
    "import matplotlib.pyplot as plt\n",
    "import matplotlib.dates as mdates\n",
    "\n",
    "# Trabajamos hasta data 2013, ya que 2014 esta incompleto.\n",
    "df_temp = df_ufo[df_ufo[\"datetime\"].dt.year <= 2013].copy() \n",
    "df_temp[\"year_month\"] = df_temp[\"datetime\"].dt.to_period(\"M\").astype(str) # Crear columna año-mes\n",
    "\n",
    "\n",
    "conteo_mensual = df_temp[\"year_month\"].value_counts().sort_index() # Conteo por año-mes\n",
    "fechas = pd.to_datetime(conteo_mensual.index, format=\"%Y-%m\") # Convertir a datetime para formatear ejes\n",
    "\n",
    "plt.figure(figsize=(15, 5))\n",
    "plt.plot(conteo_mensual.index, conteo_mensual.values, color=\"royalblue\", linewidth=2)\n",
    "plt.axvline(\"1995-01\", color=\"red\", linestyle=\"--\", linewidth=1.5, label=\"Incremento desde 1995\")\n",
    "plt.xlabel(\"Año\")\n",
    "plt.ylabel(\"Avistamientos mensuales\")\n",
    "plt.title(\"Avistamientos de OVNIs por Año y Mes\")\n",
    "xticks_filtered = [x for x in conteo_mensual.index if x.endswith('-01') and int(x[:4]) % 3 == 0] # Mostrar solo cada 5 años\n",
    "plt.xticks(xticks_filtered, rotation=45)\n",
    "plt.legend()\n",
    "plt.grid(True, linestyle='--', alpha=0.3)\n",
    "plt.tight_layout()\n",
    "plt.savefig(\"imagenes/Serie de tiempo-Mes-Año.png\", dpi=300, bbox_inches='tight')"
   ]
  },
  {
   "cell_type": "code",
   "execution_count": 92,
   "metadata": {},
   "outputs": [
    {
     "data": {
      "image/png": "[encoded data removed]",
      "text/plain": [
       "<Figure size 1500x500 with 1 Axes>"
      ]
     },
     "metadata": {},
     "output_type": "display_data"
    }
   ],
   "source": [
    "# Filtrar el rango entre 1900 y 1950 para ver mas clara la estacionalidad\n",
    "conteo_mensual_filtrado = conteo_mensual[\n",
    "    (conteo_mensual.index >= \"1960\") & (conteo_mensual.index <= \"1970\")\n",
    "]\n",
    "plt.figure(figsize=(15, 5))\n",
    "conteo_mensual_filtrado.plot(kind=\"line\")\n",
    "plt.xlabel(\"Año-Mes\")\n",
    "plt.ylabel(\"Número de avistamientos\")\n",
    "plt.title(\"Avistamientos de OVNIs por Año y Mes\")\n",
    "plt.xticks(rotation=45)\n",
    "plt.tight_layout()\n",
    "plt.show()"
   ]
  },
  {
   "cell_type": "code",
   "execution_count": 112,
   "metadata": {},
   "outputs": [
    {
     "data": {
      "image/png": "[encoded data removed]",
      "text/plain": [
       "<Figure size 1200x600 with 1 Axes>"
      ]
     },
     "metadata": {},
     "output_type": "display_data"
    }
   ],
   "source": [
    "import matplotlib.pyplot as plt\n",
    "\n",
    "df_ufo[\"month_name\"] = df_ufo[\"datetime\"].dt.month_name()\n",
    "order = ['January', 'February', 'March', 'April', 'May', 'June',\n",
    "        'July', 'August', 'September', 'October', 'November', 'December']\n",
    "\n",
    "# Conteo de avistamientos por mes\n",
    "conteo_mensual = df_ufo[\"month_name\"].value_counts().reindex(order)\n",
    "\n",
    "\n",
    "plt.figure(figsize=(12, 6))\n",
    "bars = plt.bar(conteo_mensual.index, conteo_mensual.values, color=\"#76c7f0\", label=\"Avistamientos mensuales\") \n",
    "plt.plot(conteo_mensual.index, conteo_mensual.values, color=\"#003f5c\", marker=\"o\", linewidth=2, label=\"Tendencia\") \n",
    "for i, value in enumerate(conteo_mensual.values):\n",
    "    plt.text(i, value + max(conteo_mensual.values)*0.02, f\"{value:,}\", ha='center', fontsize=9)\n",
    "\n",
    "plt.title(\"Estacionalidad de Avistamientos de OVNIs por Mes\", fontsize=16)\n",
    "plt.xlabel(\"Mes\", fontsize=12)\n",
    "plt.ylabel(\"Número total de avistamientos\", fontsize=12)\n",
    "plt.xticks(rotation=45)\n",
    "plt.legend()\n",
    "plt.tight_layout()\n",
    "plt.savefig(\"imagenes/grafico_estacionalidad_ovnis_mensual.png\", dpi=300, bbox_inches='tight')\n",
    "plt.show()"
   ]
  },
  {
   "cell_type": "code",
   "execution_count": 161,
   "metadata": {},
   "outputs": [
    {
     "data": {
      "image/png": "[encoded data removed]",
      "text/plain": [
       "<Figure size 640x480 with 4 Axes>"
      ]
     },
     "metadata": {},
     "output_type": "display_data"
    }
   ],
   "source": [
    "# Analisis de serie de tiempo descritivo\n",
    "\n",
    "from statsmodels.tsa.seasonal import seasonal_decompose\n",
    "import matplotlib.pyplot as plt\n",
    "import pandas as pd\n",
    "\n",
    "df_decomp = df_ufo[df_ufo[\"datetime\"].dt.year >= 1995].copy() # Filtrar desde 1995 que empieza mas evidente\n",
    "\n",
    "# Crear serie de tiempo mensual\n",
    "series_monthly = df_decomp[\"datetime\"].dt.to_period(\"M\").value_counts().sort_index()\n",
    "series_monthly.index = pd.to_datetime(series_monthly.index.astype(str))\n",
    "series_monthly = series_monthly.asfreq(\"MS\").fillna(0)  # Asegurar frecuencia mensual y rellenar vacíos con 0\n",
    "\n",
    "\n",
    "result = seasonal_decompose(series_monthly, model='additive') # Descomposición estacional\n",
    "\n",
    "\n",
    "fig = result.plot()\n",
    "fig.suptitle(\"Descomposición de la Serie de Avistamientos de OVNIs (Desde 1995)\", fontsize=16)\n",
    "plt.subplots_adjust(top=0.90)\n",
    "plt.show()"
   ]
  },
  {
   "cell_type": "code",
   "execution_count": 162,
   "metadata": {},
   "outputs": [
    {
     "name": "stdout",
     "output_type": "stream",
     "text": [
      "F = 3.24, p = 4.0304e-04\n"
     ]
    }
   ],
   "source": [
    "# Prueba de Anova\n",
    "import pandas as pd\n",
    "from scipy.stats import f_oneway\n",
    "\n",
    "# --- Configuración temporal: usar rango confiable de datos ---\n",
    "# A partir de 1995, cuando el volumen empieza a ser representativo\n",
    "df_anova = df_ufo[df_ufo[\"datetime\"].dt.year >= 1995].copy()\n",
    "\n",
    "df_anova[\"year\"] = df_anova[\"datetime\"].dt.year\n",
    "df_anova[\"month\"] = df_anova[\"datetime\"].dt.month\n",
    "\n",
    "\n",
    "counts_year_month = (\n",
    "    df_anova.groupby([\"year\", \"month\"])\n",
    "    .size()\n",
    "    .unstack(\"month\")\n",
    "    .sort_index()\n",
    ")\n",
    "month_groups = [counts_year_month[m].dropna().values for m in counts_year_month.columns]\n",
    "f_stat, p_value = f_oneway(*month_groups)\n",
    "print(f\"F = {f_stat:.2f}, p = {p_value:.4e}\")"
   ]
  },
  {
   "cell_type": "markdown",
   "metadata": {},
   "source": [
    "### Revisión de la ubicación"
   ]
  },
  {
   "cell_type": "code",
   "execution_count": 95,
   "metadata": {},
   "outputs": [],
   "source": [
    "df_ufo[\"latitude\"] = pd.to_numeric(df_ufo[\"latitude\"], errors=\"coerce\")\n",
    "df_ufo[\"longitude\"] = pd.to_numeric(df_ufo[\"longitude\"], errors=\"coerce\")"
   ]
  },
  {
   "cell_type": "code",
   "execution_count": 98,
   "metadata": {},
   "outputs": [
    {
     "data": {
      "text/plain": [
       "country      12365\n",
       "state         7409\n",
       "city             0\n",
       "latitude         1\n",
       "longitude        0\n",
       "dtype: int64"
      ]
     },
     "execution_count": 98,
     "metadata": {},
     "output_type": "execute_result"
    }
   ],
   "source": [
    "# Cantidad de faltantes\n",
    "df_ufo[[\"country\", \"state\", \"city\", \"latitude\", \"longitude\"]].isna().sum()"
   ]
  },
  {
   "cell_type": "code",
   "execution_count": 163,
   "metadata": {},
   "outputs": [
    {
     "data": {
      "text/html": [
       "<div>\n",
       "<style scoped>\n",
       "    .dataframe tbody tr th:only-of-type {\n",
       "        vertical-align: middle;\n",
       "    }\n",
       "\n",
       "    .dataframe tbody tr th {\n",
       "        vertical-align: top;\n",
       "    }\n",
       "\n",
       "    .dataframe thead th {\n",
       "        text-align: right;\n",
       "    }\n",
       "</style>\n",
       "<table border=\"1\" class=\"dataframe\">\n",
       "  <thead>\n",
       "    <tr style=\"text-align: right;\">\n",
       "      <th></th>\n",
       "      <th>country</th>\n",
       "      <th>count</th>\n",
       "      <th>Pct</th>\n",
       "    </tr>\n",
       "  </thead>\n",
       "  <tbody>\n",
       "    <tr>\n",
       "      <th>0</th>\n",
       "      <td>us</td>\n",
       "      <td>70293</td>\n",
       "      <td>79.27</td>\n",
       "    </tr>\n",
       "    <tr>\n",
       "      <th>1</th>\n",
       "      <td>NaN</td>\n",
       "      <td>12365</td>\n",
       "      <td>13.94</td>\n",
       "    </tr>\n",
       "    <tr>\n",
       "      <th>2</th>\n",
       "      <td>ca</td>\n",
       "      <td>3266</td>\n",
       "      <td>3.68</td>\n",
       "    </tr>\n",
       "    <tr>\n",
       "      <th>3</th>\n",
       "      <td>gb</td>\n",
       "      <td>2050</td>\n",
       "      <td>2.31</td>\n",
       "    </tr>\n",
       "    <tr>\n",
       "      <th>4</th>\n",
       "      <td>au</td>\n",
       "      <td>593</td>\n",
       "      <td>0.67</td>\n",
       "    </tr>\n",
       "    <tr>\n",
       "      <th>5</th>\n",
       "      <td>de</td>\n",
       "      <td>112</td>\n",
       "      <td>0.13</td>\n",
       "    </tr>\n",
       "  </tbody>\n",
       "</table>\n",
       "</div>"
      ],
      "text/plain": [
       "  country  count    Pct\n",
       "0      us  70293  79.27\n",
       "1     NaN  12365  13.94\n",
       "2      ca   3266   3.68\n",
       "3      gb   2050   2.31\n",
       "4      au    593   0.67\n",
       "5      de    112   0.13"
      ]
     },
     "execution_count": 163,
     "metadata": {},
     "output_type": "execute_result"
    }
   ],
   "source": [
    "# Country valores\n",
    "df_country_counts = df_ufo['country'].value_counts(dropna=False).reset_index()\n",
    "df_country_counts['Pct'] = round(df_country_counts['count']/df_country_counts['count'].sum()*100, 2)\n",
    "df_country_counts"
   ]
  },
  {
   "cell_type": "code",
   "execution_count": 164,
   "metadata": {},
   "outputs": [
    {
     "name": "stdout",
     "output_type": "stream",
     "text": [
      "Cantidad de Avistamientos con un Pais declarado en el set de datos: 76314\n"
     ]
    }
   ],
   "source": [
    "print(\"Cantidad de Avistamientos con un Pais declarado en el set de datos:\", df_ufo['country'].value_counts().sum())"
   ]
  },
  {
   "cell_type": "code",
   "execution_count": 165,
   "metadata": {},
   "outputs": [
    {
     "data": {
      "text/plain": [
       "(12365, 23)"
      ]
     },
     "execution_count": 165,
     "metadata": {},
     "output_type": "execute_result"
    }
   ],
   "source": [
    "# Donde la longitued es diferente de 0 y el country es nulo\n",
    "df_ufo[(df_ufo['longitude'] != '0') & (df_ufo['country'].isnull())].shape"
   ]
  },
  {
   "cell_type": "code",
   "execution_count": 166,
   "metadata": {},
   "outputs": [],
   "source": [
    "import reverse_geocoder as rg\n",
    "import pycountry\n",
    "import numpy as np\n",
    "\n",
    "# Crear máscara para coordenadas válidas (no nulas y diferentes de 0)\n",
    "mask_valid_coords = (\n",
    "    df_ufo[\"latitude\"].notna() &\n",
    "    df_ufo[\"longitude\"].notna() &\n",
    "    (df_ufo[\"latitude\"] != 0) &\n",
    "    (df_ufo[\"longitude\"] != 0)\n",
    ")\n",
    "\n",
    "# Lista de coordenadas válidas\n",
    "coordenadas = list(zip(df_ufo.loc[mask_valid_coords, \"latitude\"], df_ufo.loc[mask_valid_coords, \"longitude\"]))\n",
    "\n",
    "# Aplicar reverse geocoding solo a las coordenadas válidas\n",
    "resultados = rg.search(coordenadas, mode=2)\n",
    "\n",
    "# Inicializar columnas con NaN\n",
    "columnas_nuevas = [\"lat_guess\", \"lon_guess\", \"city_guess\", \"admin1_guess\", \"admin2_guess\", \n",
    "                    \"country_code_guess\", \"country_name_guess\"]\n",
    "for col in columnas_nuevas:\n",
    "    df_ufo[col] = pd.Series([np.nan] * len(df_ufo), dtype=\"object\")\n",
    "\n",
    "# Asignar resultados solo a las filas válidas\n",
    "df_ufo.loc[mask_valid_coords, \"lat_guess\"] = [r[\"lat\"] for r in resultados]\n",
    "df_ufo.loc[mask_valid_coords, \"lon_guess\"] = [r[\"lon\"] for r in resultados]\n",
    "df_ufo.loc[mask_valid_coords, \"city_guess\"] = [r[\"name\"] for r in resultados]\n",
    "df_ufo.loc[mask_valid_coords, \"admin1_guess\"] = [r[\"admin1\"] for r in resultados]\n",
    "df_ufo.loc[mask_valid_coords, \"admin2_guess\"] = [r[\"admin2\"] for r in resultados]\n",
    "df_ufo.loc[mask_valid_coords, \"country_code_guess\"] = [r[\"cc\"] for r in resultados]\n",
    "\n",
    "# Convertir código ISO a nombre de país\n",
    "def iso_to_country_name(code):\n",
    "    try:\n",
    "        return pycountry.countries.get(alpha_2=code.upper()).name\n",
    "    except:\n",
    "        return None\n",
    "\n",
    "df_ufo.loc[mask_valid_coords, \"country_name_guess\"] = df_ufo.loc[mask_valid_coords, \"country_code_guess\"].apply(iso_to_country_name)"
   ]
  },
  {
   "cell_type": "code",
   "execution_count": 167,
   "metadata": {},
   "outputs": [
    {
     "data": {
      "text/plain": [
       "country_name_guess\n",
       "United States         70243\n",
       "Puerto Rico              26\n",
       "Canada                   16\n",
       "Mexico                    5\n",
       "Russian Federation        3\n",
       "Name: count, dtype: int64"
      ]
     },
     "execution_count": 167,
     "metadata": {},
     "output_type": "execute_result"
    }
   ],
   "source": [
    "# Revisando la información previa de country para US con los nuevos valores obtenidos por coordenadas\n",
    "df_ufo[df_ufo['country'] == 'us']['country_name_guess'].value_counts(dropna=False)"
   ]
  },
  {
   "cell_type": "code",
   "execution_count": 168,
   "metadata": {},
   "outputs": [
    {
     "data": {
      "text/html": [
       "<div>\n",
       "<style scoped>\n",
       "    .dataframe tbody tr th:only-of-type {\n",
       "        vertical-align: middle;\n",
       "    }\n",
       "\n",
       "    .dataframe tbody tr th {\n",
       "        vertical-align: top;\n",
       "    }\n",
       "\n",
       "    .dataframe thead th {\n",
       "        text-align: right;\n",
       "    }\n",
       "</style>\n",
       "<table border=\"1\" class=\"dataframe\">\n",
       "  <thead>\n",
       "    <tr style=\"text-align: right;\">\n",
       "      <th></th>\n",
       "      <th>País</th>\n",
       "      <th>Avistamientos</th>\n",
       "    </tr>\n",
       "  </thead>\n",
       "  <tbody>\n",
       "    <tr>\n",
       "      <th>0</th>\n",
       "      <td>US</td>\n",
       "      <td>76742</td>\n",
       "    </tr>\n",
       "    <tr>\n",
       "      <th>1</th>\n",
       "      <td>CA</td>\n",
       "      <td>3927</td>\n",
       "    </tr>\n",
       "    <tr>\n",
       "      <th>2</th>\n",
       "      <td>GB</td>\n",
       "      <td>2581</td>\n",
       "    </tr>\n",
       "    <tr>\n",
       "      <th>3</th>\n",
       "      <td>AU</td>\n",
       "      <td>698</td>\n",
       "    </tr>\n",
       "    <tr>\n",
       "      <th>4</th>\n",
       "      <td>MX</td>\n",
       "      <td>260</td>\n",
       "    </tr>\n",
       "  </tbody>\n",
       "</table>\n",
       "</div>"
      ],
      "text/plain": [
       "  País  Avistamientos\n",
       "0   US          76742\n",
       "1   CA           3927\n",
       "2   GB           2581\n",
       "3   AU            698\n",
       "4   MX            260"
      ]
     },
     "execution_count": 168,
     "metadata": {},
     "output_type": "execute_result"
    }
   ],
   "source": [
    "ufo_country = df_ufo['country_code_guess'].value_counts().reset_index()\n",
    "ufo_country.columns = [\"País\", \"Avistamientos\"]\n",
    "ufo_country.head()"
   ]
  },
  {
   "cell_type": "code",
   "execution_count": 169,
   "metadata": {},
   "outputs": [
    {
     "name": "stdout",
     "output_type": "stream",
     "text": [
      "Cantidad de Avistamientos con un Pais asignado en el set de datos: 87174\n"
     ]
    }
   ],
   "source": [
    "print('Cantidad de Avistamientos con un Pais asignado en el set de datos:', df_ufo['country_name_guess'].value_counts().sum())"
   ]
  },
  {
   "cell_type": "markdown",
   "metadata": {},
   "source": [
    "Con el objetivo de completar los valores faltantes en la variable country, se utilizó la librería reverse_geocoder, que permite asignar país, estado y ciudad estimados a partir de coordenadas geográficas. Este proceso se aplicó exclusivamente a los registros con coordenadas válidas, es decir, aquellos donde tanto latitude como longitude:\n",
    "* No eran nulos (NaN), y\n",
    "* No eran iguales a 0 (ya que este valor representa datos no informativos y podría inducir a errores en la geolocalización).\n",
    "\n",
    "Gracias a esta estrategia, se logró aumentar la cobertura de la columna country, pasando de 76,314 valores declarados originalmente a 87,174 valores asignados, lo que representa una mejora del 14.2% en la completitud de esta característica.\n",
    "\n",
    "Este enriquecimiento resulta clave para análisis geográficos posteriores y se llevó a cabo de forma local, eficiente y sin requerimientos de conexión a APIs externas.\n"
   ]
  },
  {
   "cell_type": "code",
   "execution_count": 159,
   "metadata": {},
   "outputs": [
    {
     "data": {
      "application/vnd.plotly.v1+json": {
       "config": {
        "plotlyServerURL": "https://plot.ly"
       },
       "data": [
        {
         "branchvalues": "total",
         "customdata": {
          "bdata": "AAAAAGC88kAAAAAAAK6uQAAAAAAAKqRAAAAAAADQhUAAAAAAAEBwQAAAAAAAgG9AAAAAAACgYkAAAAAAAMBdQAAAAAAAwF1AAAAAAAAAXEAAAAAAAIBZQAAAAAAAQFZAAAAAAADAVEAAAAAAAEBRQAAAAAAAwFBAAAAAAACAT0AAAAAAAABNQAAAAAAAAEtAAAAAAACASUAAAAAAAABHQAAAAAAAAEdAAAAAAAAAR0AAAAAAAABHQAAAAAAAAEZAAAAAAACAQ0AAAAAAAIBCQAAAAAAAAEJAAAAAAAAAQkAAAAAAAABBQAAAAAAAgEBAAAAAAACAQEAAAAAAAABAQAAAAAAAAD9AAAAAAAAAPUAAAAAAAAA9QAAAAAAAAD1AAAAAAAAAPEAAAAAAAAA8QAAAAAAAADtAAAAAAAAAO0AAAAAAAAA4QAAAAAAAADhAAAAAAAAAOEAAAAAAAAA3QAAAAAAAADdAAAAAAAAANkAAAAAAAAA1QAAAAAAAADVAAAAAAAAANUAAAAAAAAAzQAAAAAAAADJAAAAAAAAAMUAAAAAAAAAuQAAAAAAAAC5AAAAAAAAALkAAAAAAAAAuQAAAAAAAAC5AAAAAAAAALEAAAAAAAAAqQAAAAAAAACpAAAAAAAAAKkAAAAAAAAAqQAAAAAAAACpAAAAAAAAAKEAAAAAAAAAoQAAAAAAAAChAAAAAAAAAKEAAAAAAAAAmQAAAAAAAACZAAAAAAAAAJEAAAAAAAAAiQAAAAAAAACJAAAAAAAAAIkAAAAAAAAAiQAAAAAAAACJAAAAAAAAAIkAAAAAAAAAgQAAAAAAAACBAAAAAAAAAIEAAAAAAAAAgQAAAAAAAACBAAAAAAAAAIEAAAAAAAAAgQAAAAAAAABxAAAAAAAAAHEAAAAAAAAAcQAAAAAAAABxAAAAAAAAAGEAAAAAAAAAYQAAAAAAAABhAAAAAAAAAGEAAAAAAAAAYQAAAAAAAABhAAAAAAAAAFEAAAAAAAAAUQAAAAAAAABRAAAAAAAAAFEAAAAAAAAAUQAAAAAAAABRAAAAAAAAAFEAAAAAAAAAUQAAAAAAAABRAAAAAAAAAFEAAAAAAAAAQQAAAAAAAABBAAAAAAAAAEEAAAAAAAAAQQAAAAAAAABBAAAAAAAAAEEAAAAAAAAAQQAAAAAAAABBAAAAAAAAAEEAAAAAAAAAIQAAAAAAAAAhAAAAAAAAACEAAAAAAAAAIQAAAAAAAAAhAAAAAAAAACEAAAAAAAAAIQAAAAAAAAAhAAAAAAAAACEAAAAAAAAAIQAAAAAAAAAhAAAAAAAAACEAAAAAAAAAIQAAAAAAAAABAAAAAAAAAAEAAAAAAAAAAQAAAAAAAAABAAAAAAAAAAEAAAAAAAAAAQAAAAAAAAABAAAAAAAAAAEAAAAAAAAAAQAAAAAAAAABAAAAAAAAAAEAAAAAAAAAAQAAAAAAAAABAAAAAAAAAAEAAAAAAAAAAQAAAAAAAAABAAAAAAAAAAEAAAAAAAAAAQAAAAAAAAPA/AAAAAAAA8D8AAAAAAADwPwAAAAAAAPA/AAAAAAAA8D8AAAAAAADwPwAAAAAAAPA/AAAAAAAA8D8AAAAAAADwPwAAAAAAAPA/AAAAAAAA8D8AAAAAAADwPwAAAAAAAPA/AAAAAAAA8D8AAAAAAADwPwAAAAAAAPA/AAAAAAAA8D8AAAAAAADwPwAAAAAAAPA/AAAAAAAA8D8AAAAAAADwPwAAAAAAAPA/AAAAAAAA8D8AAAAAAADwPwAAAAAAAPA/AAAAAAAA8D8AAAAAAADwPw==",
          "dtype": "f8",
          "shape": "170, 1"
         },
         "domain": {
          "x": [
           0,
           1
          ],
          "y": [
           0,
           1
          ]
         },
         "hovertemplate": "labels=%{label}<br>Avistamientos_sum=%{value}<br>parent=%{parent}<br>id=%{id}<br>Avistamientos=%{color}<extra></extra>",
         "ids": [
          "US<br>76,742 (88.0%)",
          "CA<br>3,927 (4.5%)",
          "GB<br>2,581 (3.0%)",
          "AU<br>698 (0.8%)",
          "MX<br>260 (0.3%)",
          "IN<br>252 (0.3%)",
          "DE<br>149 (0.2%)",
          "NL<br>119 (0.1%)",
          "BR<br>119 (0.1%)",
          "NZ<br>112 (0.1%)",
          "ZA<br>102 (0.1%)",
          "ES<br>89 (0.1%)",
          "FR<br>83 (0.1%)",
          "MY<br>69 (0.1%)",
          "PH<br>67 (0.1%)",
          "IE<br>63 (0.1%)",
          "JP<br>58 (0.1%)",
          "PR<br>54 (0.1%)",
          "PT<br>51 (0.1%)",
          "SE<br>46 (0.1%)",
          "NO<br>46 (0.1%)",
          "CN<br>46 (0.1%)",
          "GR<br>46 (0.1%)",
          "BE<br>44 (0.1%)",
          "IR<br>39 (0.0%)",
          "IL<br>37 (0.0%)",
          "RO<br>36 (0.0%)",
          "IT<br>36 (0.0%)",
          "TR<br>34 (0.0%)",
          "AR<br>33 (0.0%)",
          "PK<br>33 (0.0%)",
          "FI<br>32 (0.0%)",
          "IQ<br>31 (0.0%)",
          "CY<br>29 (0.0%)",
          "TH<br>29 (0.0%)",
          "HR<br>29 (0.0%)",
          "VE<br>28 (0.0%)",
          "CO<br>28 (0.0%)",
          "SG<br>27 (0.0%)",
          "CL<br>27 (0.0%)",
          "HU<br>24 (0.0%)",
          "AE<br>24 (0.0%)",
          "PL<br>24 (0.0%)",
          "VN<br>23 (0.0%)",
          "LK<br>23 (0.0%)",
          "ID<br>22 (0.0%)",
          "DK<br>21 (0.0%)",
          "RU<br>21 (0.0%)",
          "KR<br>21 (0.0%)",
          "BG<br>19 (0.0%)",
          "CR<br>18 (0.0%)",
          "CH<br>17 (0.0%)",
          "LT<br>15 (0.0%)",
          "LB<br>15 (0.0%)",
          "BS<br>15 (0.0%)",
          "IS<br>15 (0.0%)",
          "EE<br>15 (0.0%)",
          "PF<br>14 (0.0%)",
          "RS<br>13 (0.0%)",
          "EC<br>13 (0.0%)",
          "UA<br>13 (0.0%)",
          "AF<br>13 (0.0%)",
          "SA<br>13 (0.0%)",
          "JM<br>12 (0.0%)",
          "KW<br>12 (0.0%)",
          "EG<br>12 (0.0%)",
          "HK<br>12 (0.0%)",
          "BD<br>11 (0.0%)",
          "DO<br>11 (0.0%)",
          "XK<br>10 (0.0%)",
          "PE<br>9 (0.0%)",
          "HN<br>9 (0.0%)",
          "SI<br>9 (0.0%)",
          "GT<br>9 (0.0%)",
          "JO<br>9 (0.0%)",
          "MT<br>9 (0.0%)",
          "BO<br>8 (0.0%)",
          "BA<br>8 (0.0%)",
          "ZW<br>8 (0.0%)",
          "AZ<br>8 (0.0%)",
          "TT<br>8 (0.0%)",
          "BM<br>8 (0.0%)",
          "MA<br>8 (0.0%)",
          "LU<br>7 (0.0%)",
          "JE<br>7 (0.0%)",
          "NG<br>7 (0.0%)",
          "AT<br>7 (0.0%)",
          "PA<br>6 (0.0%)",
          "KE<br>6 (0.0%)",
          "VI<br>6 (0.0%)",
          "CU<br>6 (0.0%)",
          "LY<br>6 (0.0%)",
          "SY<br>6 (0.0%)",
          "LV<br>5 (0.0%)",
          "GY<br>5 (0.0%)",
          "SK<br>5 (0.0%)",
          "BB<br>5 (0.0%)",
          "TF<br>5 (0.0%)",
          "ET<br>5 (0.0%)",
          "TW<br>5 (0.0%)",
          "TN<br>5 (0.0%)",
          "BN<br>5 (0.0%)",
          "PS<br>5 (0.0%)",
          "CZ<br>4 (0.0%)",
          "KY<br>4 (0.0%)",
          "VG<br>4 (0.0%)",
          "KZ<br>4 (0.0%)",
          "BH<br>4 (0.0%)",
          "MK<br>4 (0.0%)",
          "MU<br>4 (0.0%)",
          "NA<br>4 (0.0%)",
          "NP<br>4 (0.0%)",
          "AL<br>3 (0.0%)",
          "MN<br>3 (0.0%)",
          "BZ<br>3 (0.0%)",
          "UZ<br>3 (0.0%)",
          "GI<br>3 (0.0%)",
          "FJ<br>3 (0.0%)",
          "PY<br>3 (0.0%)",
          "TC<br>3 (0.0%)",
          "MV<br>3 (0.0%)",
          "HT<br>3 (0.0%)",
          "QA<br>3 (0.0%)",
          "AM<br>3 (0.0%)",
          "MM<br>3 (0.0%)",
          "ZM<br>2 (0.0%)",
          "MO<br>2 (0.0%)",
          "KH<br>2 (0.0%)",
          "DZ<br>2 (0.0%)",
          "SN<br>2 (0.0%)",
          "KG<br>2 (0.0%)",
          "BW<br>2 (0.0%)",
          "FO<br>2 (0.0%)",
          "TZ<br>2 (0.0%)",
          "BY<br>2 (0.0%)",
          "AW<br>2 (0.0%)",
          "PW<br>2 (0.0%)",
          "LC<br>2 (0.0%)",
          "IM<br>2 (0.0%)",
          "PG<br>2 (0.0%)",
          "LS<br>2 (0.0%)",
          "SR<br>2 (0.0%)",
          "UY<br>2 (0.0%)",
          "CW<br>1 (0.0%)",
          "MC<br>1 (0.0%)",
          "CV<br>1 (0.0%)",
          "CD<br>1 (0.0%)",
          "GU<br>1 (0.0%)",
          "SX<br>1 (0.0%)",
          "ST<br>1 (0.0%)",
          "LA<br>1 (0.0%)",
          "GG<br>1 (0.0%)",
          "BQ<br>1 (0.0%)",
          "GD<br>1 (0.0%)",
          "GE<br>1 (0.0%)",
          "TO<br>1 (0.0%)",
          "TL<br>1 (0.0%)",
          "CM<br>1 (0.0%)",
          "GL<br>1 (0.0%)",
          "YE<br>1 (0.0%)",
          "SH<br>1 (0.0%)",
          "SV<br>1 (0.0%)",
          "NI<br>1 (0.0%)",
          "GH<br>1 (0.0%)",
          "OM<br>1 (0.0%)",
          "AX<br>1 (0.0%)",
          "SB<br>1 (0.0%)",
          "SZ<br>1 (0.0%)",
          "RE<br>1 (0.0%)",
          "SJ<br>1 (0.0%)"
         ],
         "labels": [
          "US<br>76,742 (88.0%)",
          "CA<br>3,927 (4.5%)",
          "GB<br>2,581 (3.0%)",
          "AU<br>698 (0.8%)",
          "MX<br>260 (0.3%)",
          "IN<br>252 (0.3%)",
          "DE<br>149 (0.2%)",
          "NL<br>119 (0.1%)",
          "BR<br>119 (0.1%)",
          "NZ<br>112 (0.1%)",
          "ZA<br>102 (0.1%)",
          "ES<br>89 (0.1%)",
          "FR<br>83 (0.1%)",
          "MY<br>69 (0.1%)",
          "PH<br>67 (0.1%)",
          "IE<br>63 (0.1%)",
          "JP<br>58 (0.1%)",
          "PR<br>54 (0.1%)",
          "PT<br>51 (0.1%)",
          "SE<br>46 (0.1%)",
          "NO<br>46 (0.1%)",
          "CN<br>46 (0.1%)",
          "GR<br>46 (0.1%)",
          "BE<br>44 (0.1%)",
          "IR<br>39 (0.0%)",
          "IL<br>37 (0.0%)",
          "RO<br>36 (0.0%)",
          "IT<br>36 (0.0%)",
          "TR<br>34 (0.0%)",
          "AR<br>33 (0.0%)",
          "PK<br>33 (0.0%)",
          "FI<br>32 (0.0%)",
          "IQ<br>31 (0.0%)",
          "CY<br>29 (0.0%)",
          "TH<br>29 (0.0%)",
          "HR<br>29 (0.0%)",
          "VE<br>28 (0.0%)",
          "CO<br>28 (0.0%)",
          "SG<br>27 (0.0%)",
          "CL<br>27 (0.0%)",
          "HU<br>24 (0.0%)",
          "AE<br>24 (0.0%)",
          "PL<br>24 (0.0%)",
          "VN<br>23 (0.0%)",
          "LK<br>23 (0.0%)",
          "ID<br>22 (0.0%)",
          "DK<br>21 (0.0%)",
          "RU<br>21 (0.0%)",
          "KR<br>21 (0.0%)",
          "BG<br>19 (0.0%)",
          "CR<br>18 (0.0%)",
          "CH<br>17 (0.0%)",
          "LT<br>15 (0.0%)",
          "LB<br>15 (0.0%)",
          "BS<br>15 (0.0%)",
          "IS<br>15 (0.0%)",
          "EE<br>15 (0.0%)",
          "PF<br>14 (0.0%)",
          "RS<br>13 (0.0%)",
          "EC<br>13 (0.0%)",
          "UA<br>13 (0.0%)",
          "AF<br>13 (0.0%)",
          "SA<br>13 (0.0%)",
          "JM<br>12 (0.0%)",
          "KW<br>12 (0.0%)",
          "EG<br>12 (0.0%)",
          "HK<br>12 (0.0%)",
          "BD<br>11 (0.0%)",
          "DO<br>11 (0.0%)",
          "XK<br>10 (0.0%)",
          "PE<br>9 (0.0%)",
          "HN<br>9 (0.0%)",
          "SI<br>9 (0.0%)",
          "GT<br>9 (0.0%)",
          "JO<br>9 (0.0%)",
          "MT<br>9 (0.0%)",
          "BO<br>8 (0.0%)",
          "BA<br>8 (0.0%)",
          "ZW<br>8 (0.0%)",
          "AZ<br>8 (0.0%)",
          "TT<br>8 (0.0%)",
          "BM<br>8 (0.0%)",
          "MA<br>8 (0.0%)",
          "LU<br>7 (0.0%)",
          "JE<br>7 (0.0%)",
          "NG<br>7 (0.0%)",
          "AT<br>7 (0.0%)",
          "PA<br>6 (0.0%)",
          "KE<br>6 (0.0%)",
          "VI<br>6 (0.0%)",
          "CU<br>6 (0.0%)",
          "LY<br>6 (0.0%)",
          "SY<br>6 (0.0%)",
          "LV<br>5 (0.0%)",
          "GY<br>5 (0.0%)",
          "SK<br>5 (0.0%)",
          "BB<br>5 (0.0%)",
          "TF<br>5 (0.0%)",
          "ET<br>5 (0.0%)",
          "TW<br>5 (0.0%)",
          "TN<br>5 (0.0%)",
          "BN<br>5 (0.0%)",
          "PS<br>5 (0.0%)",
          "CZ<br>4 (0.0%)",
          "KY<br>4 (0.0%)",
          "VG<br>4 (0.0%)",
          "KZ<br>4 (0.0%)",
          "BH<br>4 (0.0%)",
          "MK<br>4 (0.0%)",
          "MU<br>4 (0.0%)",
          "NA<br>4 (0.0%)",
          "NP<br>4 (0.0%)",
          "AL<br>3 (0.0%)",
          "MN<br>3 (0.0%)",
          "BZ<br>3 (0.0%)",
          "UZ<br>3 (0.0%)",
          "GI<br>3 (0.0%)",
          "FJ<br>3 (0.0%)",
          "PY<br>3 (0.0%)",
          "TC<br>3 (0.0%)",
          "MV<br>3 (0.0%)",
          "HT<br>3 (0.0%)",
          "QA<br>3 (0.0%)",
          "AM<br>3 (0.0%)",
          "MM<br>3 (0.0%)",
          "ZM<br>2 (0.0%)",
          "MO<br>2 (0.0%)",
          "KH<br>2 (0.0%)",
          "DZ<br>2 (0.0%)",
          "SN<br>2 (0.0%)",
          "KG<br>2 (0.0%)",
          "BW<br>2 (0.0%)",
          "FO<br>2 (0.0%)",
          "TZ<br>2 (0.0%)",
          "BY<br>2 (0.0%)",
          "AW<br>2 (0.0%)",
          "PW<br>2 (0.0%)",
          "LC<br>2 (0.0%)",
          "IM<br>2 (0.0%)",
          "PG<br>2 (0.0%)",
          "LS<br>2 (0.0%)",
          "SR<br>2 (0.0%)",
          "UY<br>2 (0.0%)",
          "CW<br>1 (0.0%)",
          "MC<br>1 (0.0%)",
          "CV<br>1 (0.0%)",
          "CD<br>1 (0.0%)",
          "GU<br>1 (0.0%)",
          "SX<br>1 (0.0%)",
          "ST<br>1 (0.0%)",
          "LA<br>1 (0.0%)",
          "GG<br>1 (0.0%)",
          "BQ<br>1 (0.0%)",
          "GD<br>1 (0.0%)",
          "GE<br>1 (0.0%)",
          "TO<br>1 (0.0%)",
          "TL<br>1 (0.0%)",
          "CM<br>1 (0.0%)",
          "GL<br>1 (0.0%)",
          "YE<br>1 (0.0%)",
          "SH<br>1 (0.0%)",
          "SV<br>1 (0.0%)",
          "NI<br>1 (0.0%)",
          "GH<br>1 (0.0%)",
          "OM<br>1 (0.0%)",
          "AX<br>1 (0.0%)",
          "SB<br>1 (0.0%)",
          "SZ<br>1 (0.0%)",
          "RE<br>1 (0.0%)",
          "SJ<br>1 (0.0%)"
         ],
         "marker": {
          "coloraxis": "coloraxis",
          "colors": {
           "bdata": "AAAAAGC88kAAAAAAAK6uQAAAAAAAKqRAAAAAAADQhUAAAAAAAEBwQAAAAAAAgG9AAAAAAACgYkAAAAAAAMBdQAAAAAAAwF1AAAAAAAAAXEAAAAAAAIBZQAAAAAAAQFZAAAAAAADAVEAAAAAAAEBRQAAAAAAAwFBAAAAAAACAT0AAAAAAAABNQAAAAAAAAEtAAAAAAACASUAAAAAAAABHQAAAAAAAAEdAAAAAAAAAR0AAAAAAAABHQAAAAAAAAEZAAAAAAACAQ0AAAAAAAIBCQAAAAAAAAEJAAAAAAAAAQkAAAAAAAABBQAAAAAAAgEBAAAAAAACAQEAAAAAAAABAQAAAAAAAAD9AAAAAAAAAPUAAAAAAAAA9QAAAAAAAAD1AAAAAAAAAPEAAAAAAAAA8QAAAAAAAADtAAAAAAAAAO0AAAAAAAAA4QAAAAAAAADhAAAAAAAAAOEAAAAAAAAA3QAAAAAAAADdAAAAAAAAANkAAAAAAAAA1QAAAAAAAADVAAAAAAAAANUAAAAAAAAAzQAAAAAAAADJAAAAAAAAAMUAAAAAAAAAuQAAAAAAAAC5AAAAAAAAALkAAAAAAAAAuQAAAAAAAAC5AAAAAAAAALEAAAAAAAAAqQAAAAAAAACpAAAAAAAAAKkAAAAAAAAAqQAAAAAAAACpAAAAAAAAAKEAAAAAAAAAoQAAAAAAAAChAAAAAAAAAKEAAAAAAAAAmQAAAAAAAACZAAAAAAAAAJEAAAAAAAAAiQAAAAAAAACJAAAAAAAAAIkAAAAAAAAAiQAAAAAAAACJAAAAAAAAAIkAAAAAAAAAgQAAAAAAAACBAAAAAAAAAIEAAAAAAAAAgQAAAAAAAACBAAAAAAAAAIEAAAAAAAAAgQAAAAAAAABxAAAAAAAAAHEAAAAAAAAAcQAAAAAAAABxAAAAAAAAAGEAAAAAAAAAYQAAAAAAAABhAAAAAAAAAGEAAAAAAAAAYQAAAAAAAABhAAAAAAAAAFEAAAAAAAAAUQAAAAAAAABRAAAAAAAAAFEAAAAAAAAAUQAAAAAAAABRAAAAAAAAAFEAAAAAAAAAUQAAAAAAAABRAAAAAAAAAFEAAAAAAAAAQQAAAAAAAABBAAAAAAAAAEEAAAAAAAAAQQAAAAAAAABBAAAAAAAAAEEAAAAAAAAAQQAAAAAAAABBAAAAAAAAAEEAAAAAAAAAIQAAAAAAAAAhAAAAAAAAACEAAAAAAAAAIQAAAAAAAAAhAAAAAAAAACEAAAAAAAAAIQAAAAAAAAAhAAAAAAAAACEAAAAAAAAAIQAAAAAAAAAhAAAAAAAAACEAAAAAAAAAIQAAAAAAAAABAAAAAAAAAAEAAAAAAAAAAQAAAAAAAAABAAAAAAAAAAEAAAAAAAAAAQAAAAAAAAABAAAAAAAAAAEAAAAAAAAAAQAAAAAAAAABAAAAAAAAAAEAAAAAAAAAAQAAAAAAAAABAAAAAAAAAAEAAAAAAAAAAQAAAAAAAAABAAAAAAAAAAEAAAAAAAAAAQAAAAAAAAPA/AAAAAAAA8D8AAAAAAADwPwAAAAAAAPA/AAAAAAAA8D8AAAAAAADwPwAAAAAAAPA/AAAAAAAA8D8AAAAAAADwPwAAAAAAAPA/AAAAAAAA8D8AAAAAAADwPwAAAAAAAPA/AAAAAAAA8D8AAAAAAADwPwAAAAAAAPA/AAAAAAAA8D8AAAAAAADwPwAAAAAAAPA/AAAAAAAA8D8AAAAAAADwPwAAAAAAAPA/AAAAAAAA8D8AAAAAAADwPwAAAAAAAPA/AAAAAAAA8D8AAAAAAADwPw==",
           "dtype": "f8"
          }
         },
         "name": "",
         "parents": [
          "",
          "",
          "",
          "",
          "",
          "",
          "",
          "",
          "",
          "",
          "",
          "",
          "",
          "",
          "",
          "",
          "",
          "",
          "",
          "",
          "",
          "",
          "",
          "",
          "",
          "",
          "",
          "",
          "",
          "",
          "",
          "",
          "",
          "",
          "",
          "",
          "",
          "",
          "",
          "",
          "",
          "",
          "",
          "",
          "",
          "",
          "",
          "",
          "",
          "",
          "",
          "",
          "",
          "",
          "",
          "",
          "",
          "",
          "",
          "",
          "",
          "",
          "",
          "",
          "",
          "",
          "",
          "",
          "",
          "",
          "",
          "",
          "",
          "",
          "",
          "",
          "",
          "",
          "",
          "",
          "",
          "",
          "",
          "",
          "",
          "",
          "",
          "",
          "",
          "",
          "",
          "",
          "",
          "",
          "",
          "",
          "",
          "",
          "",
          "",
          "",
          "",
          "",
          "",
          "",
          "",
          "",
          "",
          "",
          "",
          "",
          "",
          "",
          "",
          "",
          "",
          "",
          "",
          "",
          "",
          "",
          "",
          "",
          "",
          "",
          "",
          "",
          "",
          "",
          "",
          "",
          "",
          "",
          "",
          "",
          "",
          "",
          "",
          "",
          "",
          "",
          "",
          "",
          "",
          "",
          "",
          "",
          "",
          "",
          "",
          "",
          "",
          "",
          "",
          "",
          "",
          "",
          "",
          "",
          "",
          "",
          "",
          "",
          "",
          "",
          "",
          "",
          "",
          "",
          ""
         ],
         "type": "treemap",
         "values": {
          "bdata": "AAAAAGC88kAAAAAAAK6uQAAAAAAAKqRAAAAAAADQhUAAAAAAAEBwQAAAAAAAgG9AAAAAAACgYkAAAAAAAMBdQAAAAAAAwF1AAAAAAAAAXEAAAAAAAIBZQAAAAAAAQFZAAAAAAADAVEAAAAAAAEBRQAAAAAAAwFBAAAAAAACAT0AAAAAAAABNQAAAAAAAAEtAAAAAAACASUAAAAAAAABHQAAAAAAAAEdAAAAAAAAAR0AAAAAAAABHQAAAAAAAAEZAAAAAAACAQ0AAAAAAAIBCQAAAAAAAAEJAAAAAAAAAQkAAAAAAAABBQAAAAAAAgEBAAAAAAACAQEAAAAAAAABAQAAAAAAAAD9AAAAAAAAAPUAAAAAAAAA9QAAAAAAAAD1AAAAAAAAAPEAAAAAAAAA8QAAAAAAAADtAAAAAAAAAO0AAAAAAAAA4QAAAAAAAADhAAAAAAAAAOEAAAAAAAAA3QAAAAAAAADdAAAAAAAAANkAAAAAAAAA1QAAAAAAAADVAAAAAAAAANUAAAAAAAAAzQAAAAAAAADJAAAAAAAAAMUAAAAAAAAAuQAAAAAAAAC5AAAAAAAAALkAAAAAAAAAuQAAAAAAAAC5AAAAAAAAALEAAAAAAAAAqQAAAAAAAACpAAAAAAAAAKkAAAAAAAAAqQAAAAAAAACpAAAAAAAAAKEAAAAAAAAAoQAAAAAAAAChAAAAAAAAAKEAAAAAAAAAmQAAAAAAAACZAAAAAAAAAJEAAAAAAAAAiQAAAAAAAACJAAAAAAAAAIkAAAAAAAAAiQAAAAAAAACJAAAAAAAAAIkAAAAAAAAAgQAAAAAAAACBAAAAAAAAAIEAAAAAAAAAgQAAAAAAAACBAAAAAAAAAIEAAAAAAAAAgQAAAAAAAABxAAAAAAAAAHEAAAAAAAAAcQAAAAAAAABxAAAAAAAAAGEAAAAAAAAAYQAAAAAAAABhAAAAAAAAAGEAAAAAAAAAYQAAAAAAAABhAAAAAAAAAFEAAAAAAAAAUQAAAAAAAABRAAAAAAAAAFEAAAAAAAAAUQAAAAAAAABRAAAAAAAAAFEAAAAAAAAAUQAAAAAAAABRAAAAAAAAAFEAAAAAAAAAQQAAAAAAAABBAAAAAAAAAEEAAAAAAAAAQQAAAAAAAABBAAAAAAAAAEEAAAAAAAAAQQAAAAAAAABBAAAAAAAAAEEAAAAAAAAAIQAAAAAAAAAhAAAAAAAAACEAAAAAAAAAIQAAAAAAAAAhAAAAAAAAACEAAAAAAAAAIQAAAAAAAAAhAAAAAAAAACEAAAAAAAAAIQAAAAAAAAAhAAAAAAAAACEAAAAAAAAAIQAAAAAAAAABAAAAAAAAAAEAAAAAAAAAAQAAAAAAAAABAAAAAAAAAAEAAAAAAAAAAQAAAAAAAAABAAAAAAAAAAEAAAAAAAAAAQAAAAAAAAABAAAAAAAAAAEAAAAAAAAAAQAAAAAAAAABAAAAAAAAAAEAAAAAAAAAAQAAAAAAAAABAAAAAAAAAAEAAAAAAAAAAQAAAAAAAAPA/AAAAAAAA8D8AAAAAAADwPwAAAAAAAPA/AAAAAAAA8D8AAAAAAADwPwAAAAAAAPA/AAAAAAAA8D8AAAAAAADwPwAAAAAAAPA/AAAAAAAA8D8AAAAAAADwPwAAAAAAAPA/AAAAAAAA8D8AAAAAAADwPwAAAAAAAPA/AAAAAAAA8D8AAAAAAADwPwAAAAAAAPA/AAAAAAAA8D8AAAAAAADwPwAAAAAAAPA/AAAAAAAA8D8AAAAAAADwPwAAAAAAAPA/AAAAAAAA8D8AAAAAAADwPw==",
          "dtype": "f8"
         }
        }
       ],
       "layout": {
        "coloraxis": {
         "colorbar": {
          "title": {
           "text": "Avistamientos"
          }
         },
         "colorscale": [
          [
           0,
           "rgb(247,251,255)"
          ],
          [
           0.125,
           "rgb(222,235,247)"
          ],
          [
           0.25,
           "rgb(198,219,239)"
          ],
          [
           0.375,
           "rgb(158,202,225)"
          ],
          [
           0.5,
           "rgb(107,174,214)"
          ],
          [
           0.625,
           "rgb(66,146,198)"
          ],
          [
           0.75,
           "rgb(33,113,181)"
          ],
          [
           0.875,
           "rgb(8,81,156)"
          ],
          [
           1,
           "rgb(8,48,107)"
          ]
         ]
        },
        "legend": {
         "tracegroupgap": 0
        },
        "template": {
         "data": {
          "bar": [
           {
            "error_x": {
             "color": "#2a3f5f"
            },
            "error_y": {
             "color": "#2a3f5f"
            },
            "marker": {
             "line": {
              "color": "#E5ECF6",
              "width": 0.5
             },
             "pattern": {
              "fillmode": "overlay",
              "size": 10,
              "solidity": 0.2
             }
            },
            "type": "bar"
           }
          ],
          "barpolar": [
           {
            "marker": {
             "line": {
              "color": "#E5ECF6",
              "width": 0.5
             },
             "pattern": {
              "fillmode": "overlay",
              "size": 10,
              "solidity": 0.2
             }
            },
            "type": "barpolar"
           }
          ],
          "carpet": [
           {
            "aaxis": {
             "endlinecolor": "#2a3f5f",
             "gridcolor": "white",
             "linecolor": "white",
             "minorgridcolor": "white",
             "startlinecolor": "#2a3f5f"
            },
            "baxis": {
             "endlinecolor": "#2a3f5f",
             "gridcolor": "white",
             "linecolor": "white",
             "minorgridcolor": "white",
             "startlinecolor": "#2a3f5f"
            },
            "type": "carpet"
           }
          ],
          "choropleth": [
           {
            "colorbar": {
             "outlinewidth": 0,
             "ticks": ""
            },
            "type": "choropleth"
           }
          ],
          "contour": [
           {
            "colorbar": {
             "outlinewidth": 0,
             "ticks": ""
            },
            "colorscale": [
             [
              0,
              "#0d0887"
             ],
             [
              0.1111111111111111,
              "#46039f"
             ],
             [
              0.2222222222222222,
              "#7201a8"
             ],
             [
              0.3333333333333333,
              "#9c179e"
             ],
             [
              0.4444444444444444,
              "#bd3786"
             ],
             [
              0.5555555555555556,
              "#d8576b"
             ],
             [
              0.6666666666666666,
              "#ed7953"
             ],
             [
              0.7777777777777778,
              "#fb9f3a"
             ],
             [
              0.8888888888888888,
              "#fdca26"
             ],
             [
              1,
              "#f0f921"
             ]
            ],
            "type": "contour"
           }
          ],
          "contourcarpet": [
           {
            "colorbar": {
             "outlinewidth": 0,
             "ticks": ""
            },
            "type": "contourcarpet"
           }
          ],
          "heatmap": [
           {
            "colorbar": {
             "outlinewidth": 0,
             "ticks": ""
            },
            "colorscale": [
             [
              0,
              "#0d0887"
             ],
             [
              0.1111111111111111,
              "#46039f"
             ],
             [
              0.2222222222222222,
              "#7201a8"
             ],
             [
              0.3333333333333333,
              "#9c179e"
             ],
             [
              0.4444444444444444,
              "#bd3786"
             ],
             [
              0.5555555555555556,
              "#d8576b"
             ],
             [
              0.6666666666666666,
              "#ed7953"
             ],
             [
              0.7777777777777778,
              "#fb9f3a"
             ],
             [
              0.8888888888888888,
              "#fdca26"
             ],
             [
              1,
              "#f0f921"
             ]
            ],
            "type": "heatmap"
           }
          ],
          "histogram": [
           {
            "marker": {
             "pattern": {
              "fillmode": "overlay",
              "size": 10,
              "solidity": 0.2
             }
            },
            "type": "histogram"
           }
          ],
          "histogram2d": [
           {
            "colorbar": {
             "outlinewidth": 0,
             "ticks": ""
            },
            "colorscale": [
             [
              0,
              "#0d0887"
             ],
             [
              0.1111111111111111,
              "#46039f"
             ],
             [
              0.2222222222222222,
              "#7201a8"
             ],
             [
              0.3333333333333333,
              "#9c179e"
             ],
             [
              0.4444444444444444,
              "#bd3786"
             ],
             [
              0.5555555555555556,
              "#d8576b"
             ],
             [
              0.6666666666666666,
              "#ed7953"
             ],
             [
              0.7777777777777778,
              "#fb9f3a"
             ],
             [
              0.8888888888888888,
              "#fdca26"
             ],
             [
              1,
              "#f0f921"
             ]
            ],
            "type": "histogram2d"
           }
          ],
          "histogram2dcontour": [
           {
            "colorbar": {
             "outlinewidth": 0,
             "ticks": ""
            },
            "colorscale": [
             [
              0,
              "#0d0887"
             ],
             [
              0.1111111111111111,
              "#46039f"
             ],
             [
              0.2222222222222222,
              "#7201a8"
             ],
             [
              0.3333333333333333,
              "#9c179e"
             ],
             [
              0.4444444444444444,
              "#bd3786"
             ],
             [
              0.5555555555555556,
              "#d8576b"
             ],
             [
              0.6666666666666666,
              "#ed7953"
             ],
             [
              0.7777777777777778,
              "#fb9f3a"
             ],
             [
              0.8888888888888888,
              "#fdca26"
             ],
             [
              1,
              "#f0f921"
             ]
            ],
            "type": "histogram2dcontour"
           }
          ],
          "mesh3d": [
           {
            "colorbar": {
             "outlinewidth": 0,
             "ticks": ""
            },
            "type": "mesh3d"
           }
          ],
          "parcoords": [
           {
            "line": {
             "colorbar": {
              "outlinewidth": 0,
              "ticks": ""
             }
            },
            "type": "parcoords"
           }
          ],
          "pie": [
           {
            "automargin": true,
            "type": "pie"
           }
          ],
          "scatter": [
           {
            "fillpattern": {
             "fillmode": "overlay",
             "size": 10,
             "solidity": 0.2
            },
            "type": "scatter"
           }
          ],
          "scatter3d": [
           {
            "line": {
             "colorbar": {
              "outlinewidth": 0,
              "ticks": ""
             }
            },
            "marker": {
             "colorbar": {
              "outlinewidth": 0,
              "ticks": ""
             }
            },
            "type": "scatter3d"
           }
          ],
          "scattercarpet": [
           {
            "marker": {
             "colorbar": {
              "outlinewidth": 0,
              "ticks": ""
             }
            },
            "type": "scattercarpet"
           }
          ],
          "scattergeo": [
           {
            "marker": {
             "colorbar": {
              "outlinewidth": 0,
              "ticks": ""
             }
            },
            "type": "scattergeo"
           }
          ],
          "scattergl": [
           {
            "marker": {
             "colorbar": {
              "outlinewidth": 0,
              "ticks": ""
             }
            },
            "type": "scattergl"
           }
          ],
          "scattermap": [
           {
            "marker": {
             "colorbar": {
              "outlinewidth": 0,
              "ticks": ""
             }
            },
            "type": "scattermap"
           }
          ],
          "scattermapbox": [
           {
            "marker": {
             "colorbar": {
              "outlinewidth": 0,
              "ticks": ""
             }
            },
            "type": "scattermapbox"
           }
          ],
          "scatterpolar": [
           {
            "marker": {
             "colorbar": {
              "outlinewidth": 0,
              "ticks": ""
             }
            },
            "type": "scatterpolar"
           }
          ],
          "scatterpolargl": [
           {
            "marker": {
             "colorbar": {
              "outlinewidth": 0,
              "ticks": ""
             }
            },
            "type": "scatterpolargl"
           }
          ],
          "scatterternary": [
           {
            "marker": {
             "colorbar": {
              "outlinewidth": 0,
              "ticks": ""
             }
            },
            "type": "scatterternary"
           }
          ],
          "surface": [
           {
            "colorbar": {
             "outlinewidth": 0,
             "ticks": ""
            },
            "colorscale": [
             [
              0,
              "#0d0887"
             ],
             [
              0.1111111111111111,
              "#46039f"
             ],
             [
              0.2222222222222222,
              "#7201a8"
             ],
             [
              0.3333333333333333,
              "#9c179e"
             ],
             [
              0.4444444444444444,
              "#bd3786"
             ],
             [
              0.5555555555555556,
              "#d8576b"
             ],
             [
              0.6666666666666666,
              "#ed7953"
             ],
             [
              0.7777777777777778,
              "#fb9f3a"
             ],
             [
              0.8888888888888888,
              "#fdca26"
             ],
             [
              1,
              "#f0f921"
             ]
            ],
            "type": "surface"
           }
          ],
          "table": [
           {
            "cells": {
             "fill": {
              "color": "#EBF0F8"
             },
             "line": {
              "color": "white"
             }
            },
            "header": {
             "fill": {
              "color": "#C8D4E3"
             },
             "line": {
              "color": "white"
             }
            },
            "type": "table"
           }
          ]
         },
         "layout": {
          "annotationdefaults": {
           "arrowcolor": "#2a3f5f",
           "arrowhead": 0,
           "arrowwidth": 1
          },
          "autotypenumbers": "strict",
          "coloraxis": {
           "colorbar": {
            "outlinewidth": 0,
            "ticks": ""
           }
          },
          "colorscale": {
           "diverging": [
            [
             0,
             "#8e0152"
            ],
            [
             0.1,
             "#c51b7d"
            ],
            [
             0.2,
             "#de77ae"
            ],
            [
             0.3,
             "#f1b6da"
            ],
            [
             0.4,
             "#fde0ef"
            ],
            [
             0.5,
             "#f7f7f7"
            ],
            [
             0.6,
             "#e6f5d0"
            ],
            [
             0.7,
             "#b8e186"
            ],
            [
             0.8,
             "#7fbc41"
            ],
            [
             0.9,
             "#4d9221"
            ],
            [
             1,
             "#276419"
            ]
           ],
           "sequential": [
            [
             0,
             "#0d0887"
            ],
            [
             0.1111111111111111,
             "#46039f"
            ],
            [
             0.2222222222222222,
             "#7201a8"
            ],
            [
             0.3333333333333333,
             "#9c179e"
            ],
            [
             0.4444444444444444,
             "#bd3786"
            ],
            [
             0.5555555555555556,
             "#d8576b"
            ],
            [
             0.6666666666666666,
             "#ed7953"
            ],
            [
             0.7777777777777778,
             "#fb9f3a"
            ],
            [
             0.8888888888888888,
             "#fdca26"
            ],
            [
             1,
             "#f0f921"
            ]
           ],
           "sequentialminus": [
            [
             0,
             "#0d0887"
            ],
            [
             0.1111111111111111,
             "#46039f"
            ],
            [
             0.2222222222222222,
             "#7201a8"
            ],
            [
             0.3333333333333333,
             "#9c179e"
            ],
            [
             0.4444444444444444,
             "#bd3786"
            ],
            [
             0.5555555555555556,
             "#d8576b"
            ],
            [
             0.6666666666666666,
             "#ed7953"
            ],
            [
             0.7777777777777778,
             "#fb9f3a"
            ],
            [
             0.8888888888888888,
             "#fdca26"
            ],
            [
             1,
             "#f0f921"
            ]
           ]
          },
          "colorway": [
           "#636efa",
           "#EF553B",
           "#00cc96",
           "#ab63fa",
           "#FFA15A",
           "#19d3f3",
           "#FF6692",
           "#B6E880",
           "#FF97FF",
           "#FECB52"
          ],
          "font": {
           "color": "#2a3f5f"
          },
          "geo": {
           "bgcolor": "white",
           "lakecolor": "white",
           "landcolor": "#E5ECF6",
           "showlakes": true,
           "showland": true,
           "subunitcolor": "white"
          },
          "hoverlabel": {
           "align": "left"
          },
          "hovermode": "closest",
          "mapbox": {
           "style": "light"
          },
          "paper_bgcolor": "white",
          "plot_bgcolor": "#E5ECF6",
          "polar": {
           "angularaxis": {
            "gridcolor": "white",
            "linecolor": "white",
            "ticks": ""
           },
           "bgcolor": "#E5ECF6",
           "radialaxis": {
            "gridcolor": "white",
            "linecolor": "white",
            "ticks": ""
           }
          },
          "scene": {
           "xaxis": {
            "backgroundcolor": "#E5ECF6",
            "gridcolor": "white",
            "gridwidth": 2,
            "linecolor": "white",
            "showbackground": true,
            "ticks": "",
            "zerolinecolor": "white"
           },
           "yaxis": {
            "backgroundcolor": "#E5ECF6",
            "gridcolor": "white",
            "gridwidth": 2,
            "linecolor": "white",
            "showbackground": true,
            "ticks": "",
            "zerolinecolor": "white"
           },
           "zaxis": {
            "backgroundcolor": "#E5ECF6",
            "gridcolor": "white",
            "gridwidth": 2,
            "linecolor": "white",
            "showbackground": true,
            "ticks": "",
            "zerolinecolor": "white"
           }
          },
          "shapedefaults": {
           "line": {
            "color": "#2a3f5f"
           }
          },
          "ternary": {
           "aaxis": {
            "gridcolor": "white",
            "linecolor": "white",
            "ticks": ""
           },
           "baxis": {
            "gridcolor": "white",
            "linecolor": "white",
            "ticks": ""
           },
           "bgcolor": "#E5ECF6",
           "caxis": {
            "gridcolor": "white",
            "linecolor": "white",
            "ticks": ""
           }
          },
          "title": {
           "x": 0.05
          },
          "xaxis": {
           "automargin": true,
           "gridcolor": "white",
           "linecolor": "white",
           "ticks": "",
           "title": {
            "standoff": 15
           },
           "zerolinecolor": "white",
           "zerolinewidth": 2
          },
          "yaxis": {
           "automargin": true,
           "gridcolor": "white",
           "linecolor": "white",
           "ticks": "",
           "title": {
            "standoff": 15
           },
           "zerolinecolor": "white",
           "zerolinewidth": 2
          }
         }
        },
        "title": {
         "text": "Distribución de avistamientos de OVNIs por país"
        }
       }
      }
     },
     "metadata": {},
     "output_type": "display_data"
    }
   ],
   "source": [
    "import plotly.express as px\n",
    "\n",
    "# Calcular total para el porcentaje\n",
    "ufo_country[\"%\"] = ufo_country[\"Avistamientos\"] / ufo_country[\"Avistamientos\"].sum()\n",
    "\n",
    "# Formateo de texto\"\n",
    "ufo_country[\"label\"] = ufo_country.apply(\n",
    "    lambda row: f\"{row['País']}<br>{row['Avistamientos']:,} ({row['%']:.1%})\", axis=1\n",
    ")\n",
    "\n",
    "# Graficar el treemap\n",
    "fig = px.treemap(\n",
    "    ufo_country,\n",
    "    path=[\"label\"],\n",
    "    values=\"Avistamientos\",\n",
    "    title=\"Distribución de avistamientos de OVNIs por país\",\n",
    "    color=\"Avistamientos\",\n",
    "    color_continuous_scale=\"Blues\"\n",
    ")\n",
    "fig.show()\n",
    "\n",
    "fig.write_image(\"imagenes/treemap_ufo_avistamientos.png\", scale=2, width=1200, height=800)\n"
   ]
  },
  {
   "cell_type": "code",
   "execution_count": 108,
   "metadata": {},
   "outputs": [
    {
     "data": {
      "text/html": [
       "<div>\n",
       "<style scoped>\n",
       "    .dataframe tbody tr th:only-of-type {\n",
       "        vertical-align: middle;\n",
       "    }\n",
       "\n",
       "    .dataframe tbody tr th {\n",
       "        vertical-align: top;\n",
       "    }\n",
       "\n",
       "    .dataframe thead th {\n",
       "        text-align: right;\n",
       "    }\n",
       "</style>\n",
       "<table border=\"1\" class=\"dataframe\">\n",
       "  <thead>\n",
       "    <tr style=\"text-align: right;\">\n",
       "      <th></th>\n",
       "      <th>País</th>\n",
       "      <th>Avistamientos</th>\n",
       "      <th>%</th>\n",
       "      <th>label</th>\n",
       "    </tr>\n",
       "  </thead>\n",
       "  <tbody>\n",
       "    <tr>\n",
       "      <th>0</th>\n",
       "      <td>US</td>\n",
       "      <td>76742</td>\n",
       "      <td>0.880230</td>\n",
       "      <td>US&lt;br&gt;76,742 (88.0%)</td>\n",
       "    </tr>\n",
       "    <tr>\n",
       "      <th>1</th>\n",
       "      <td>CA</td>\n",
       "      <td>3927</td>\n",
       "      <td>0.045043</td>\n",
       "      <td>CA&lt;br&gt;3,927 (4.5%)</td>\n",
       "    </tr>\n",
       "    <tr>\n",
       "      <th>2</th>\n",
       "      <td>GB</td>\n",
       "      <td>2581</td>\n",
       "      <td>0.029604</td>\n",
       "      <td>GB&lt;br&gt;2,581 (3.0%)</td>\n",
       "    </tr>\n",
       "    <tr>\n",
       "      <th>3</th>\n",
       "      <td>AU</td>\n",
       "      <td>698</td>\n",
       "      <td>0.008006</td>\n",
       "      <td>AU&lt;br&gt;698 (0.8%)</td>\n",
       "    </tr>\n",
       "    <tr>\n",
       "      <th>4</th>\n",
       "      <td>MX</td>\n",
       "      <td>260</td>\n",
       "      <td>0.002982</td>\n",
       "      <td>MX&lt;br&gt;260 (0.3%)</td>\n",
       "    </tr>\n",
       "    <tr>\n",
       "      <th>5</th>\n",
       "      <td>IN</td>\n",
       "      <td>252</td>\n",
       "      <td>0.002890</td>\n",
       "      <td>IN&lt;br&gt;252 (0.3%)</td>\n",
       "    </tr>\n",
       "    <tr>\n",
       "      <th>6</th>\n",
       "      <td>DE</td>\n",
       "      <td>149</td>\n",
       "      <td>0.001709</td>\n",
       "      <td>DE&lt;br&gt;149 (0.2%)</td>\n",
       "    </tr>\n",
       "    <tr>\n",
       "      <th>7</th>\n",
       "      <td>NL</td>\n",
       "      <td>119</td>\n",
       "      <td>0.001365</td>\n",
       "      <td>NL&lt;br&gt;119 (0.1%)</td>\n",
       "    </tr>\n",
       "    <tr>\n",
       "      <th>8</th>\n",
       "      <td>BR</td>\n",
       "      <td>119</td>\n",
       "      <td>0.001365</td>\n",
       "      <td>BR&lt;br&gt;119 (0.1%)</td>\n",
       "    </tr>\n",
       "    <tr>\n",
       "      <th>9</th>\n",
       "      <td>NZ</td>\n",
       "      <td>112</td>\n",
       "      <td>0.001285</td>\n",
       "      <td>NZ&lt;br&gt;112 (0.1%)</td>\n",
       "    </tr>\n",
       "  </tbody>\n",
       "</table>\n",
       "</div>"
      ],
      "text/plain": [
       "  País  Avistamientos         %                 label\n",
       "0   US          76742  0.880230  US<br>76,742 (88.0%)\n",
       "1   CA           3927  0.045043    CA<br>3,927 (4.5%)\n",
       "2   GB           2581  0.029604    GB<br>2,581 (3.0%)\n",
       "3   AU            698  0.008006      AU<br>698 (0.8%)\n",
       "4   MX            260  0.002982      MX<br>260 (0.3%)\n",
       "5   IN            252  0.002890      IN<br>252 (0.3%)\n",
       "6   DE            149  0.001709      DE<br>149 (0.2%)\n",
       "7   NL            119  0.001365      NL<br>119 (0.1%)\n",
       "8   BR            119  0.001365      BR<br>119 (0.1%)\n",
       "9   NZ            112  0.001285      NZ<br>112 (0.1%)"
      ]
     },
     "execution_count": 108,
     "metadata": {},
     "output_type": "execute_result"
    }
   ],
   "source": [
    "ufo_country['%'] = round(ufo_country['%']*100, 2)\n",
    "ufo_country.head(10)"
   ]
  },
  {
   "cell_type": "code",
   "execution_count": 109,
   "metadata": {},
   "outputs": [
    {
     "data": {
      "text/plain": [
       "np.float64(0.04512295834097999)"
      ]
     },
     "execution_count": 109,
     "metadata": {},
     "output_type": "execute_result"
    }
   ],
   "source": [
    "# Porcentaje que representa el resto de paises not top 3\n",
    "ufo_country[~ufo_country['País'].isin(['US', 'CA', 'GB'])]['%'].sum()"
   ]
  },
  {
   "cell_type": "code",
   "execution_count": 110,
   "metadata": {},
   "outputs": [],
   "source": [
    "# Diccionario de nombre completo a abreviación de estado\n",
    "us_state_to_code = {\n",
    "    'Alabama': 'AL', 'Alaska': 'AK', 'Arizona': 'AZ', 'Arkansas': 'AR',\n",
    "    'California': 'CA', 'Colorado': 'CO', 'Connecticut': 'CT', 'Delaware': 'DE',\n",
    "    'Florida': 'FL', 'Georgia': 'GA', 'Hawaii': 'HI', 'Idaho': 'ID',\n",
    "    'Illinois': 'IL', 'Indiana': 'IN', 'Iowa': 'IA', 'Kansas': 'KS',\n",
    "    'Kentucky': 'KY', 'Louisiana': 'LA', 'Maine': 'ME', 'Maryland': 'MD',\n",
    "    'Massachusetts': 'MA', 'Michigan': 'MI', 'Minnesota': 'MN',\n",
    "    'Mississippi': 'MS', 'Missouri': 'MO', 'Montana': 'MT', 'Nebraska': 'NE',\n",
    "    'Nevada': 'NV', 'New Hampshire': 'NH', 'New Jersey': 'NJ',\n",
    "    'New Mexico': 'NM', 'New York': 'NY', 'North Carolina': 'NC',\n",
    "    'North Dakota': 'ND', 'Ohio': 'OH', 'Oklahoma': 'OK', 'Oregon': 'OR',\n",
    "    'Pennsylvania': 'PA', 'Rhode Island': 'RI', 'South Carolina': 'SC',\n",
    "    'South Dakota': 'SD', 'Tennessee': 'TN', 'Texas': 'TX', 'Utah': 'UT',\n",
    "    'Vermont': 'VT', 'Virginia': 'VA', 'Washington': 'WA',\n",
    "    'West Virginia': 'WV', 'Wisconsin': 'WI', 'Wyoming': 'WY',\n",
    "    'Washington, D.C.': 'DC'\n",
    "}\n",
    "\n",
    "df_ufo[\"state_name_abrev\"] = df_ufo.apply(\n",
    "    lambda row: us_state_to_code.get(row[\"admin1_guess\"]) if row[\"country_code_guess\"] == \"US\" else None,\n",
    "    axis=1\n",
    ")"
   ]
  },
  {
   "cell_type": "code",
   "execution_count": 111,
   "metadata": {},
   "outputs": [
    {
     "data": {
      "application/vnd.plotly.v1+json": {
       "config": {
        "plotlyServerURL": "https://plot.ly"
       },
       "data": [
        {
         "coloraxis": "coloraxis",
         "customdata": {
          "bdata": "AAAAAAA6xEA+JrRC5kXBPwAAAAAACLJAHJo3Zu3Lrj8AAAAAANCxQEIObSJIbK4/AAAAAABer0Cg2BkKcsmqPwAAAAAApKtA9JU8DcCapz8AAAAAAACnQPMlmFk5pKM/AAAAAABipkDNaRqjSx2jPwAAAAAAqqVAnahN2CmAoj8AAAAAAGqkQHf0CvLjbqE/AAAAAACCoUAJ8JKoD+edPwAAAAAAXJ9Aszp2zbzHmj8AAAAAABSfQF0FdEZAipo/AAAAAADImkAauu7+396WPwAAAAAAlJlAgrmBhNnXlT8AAAAAAHCZQNeeAEEbuZU/AAAAAADUl0AZild1RFmUPwAAAAAAaJdAGTrUqgn9kz8AAAAAAOSWQPyCpQhQjJM/AAAAAADIlkAG4LK3ZnSTPwAAAAAAOJZAW3WuqW35kj8AAAAAAJiUQMMkvmQslpE/AAAAAABokkAA05Ij5G+PPwAAAAAASJJAXxUfjzw5jz8AAAAAACyQQF71/aXwnos/AAAAAAAYj0A3Qbu/qo2KPwAAAAAA+I5AZ2KB9VZyij8AAAAAAACOQJbjQJaNnok/AAAAAAA4jEB5PIiUIxmIPwAAAAAAgIlAP44dJsXGhT8AAAAAAEiIQM1RaTJUvIQ/AAAAAADwh0AQLUrGLXGEPwAAAAAAcIdAzbFind4DhD8AAAAAAEiGQMNky44XB4M/AAAAAADwhUAGQKwi8buCPwAAAAAAcIVAw8TE+aFOgj8AAAAAAACEQGRCK2ReFIE/AAAAAADwgkB3XD8tFiyAPwAAAAAASIJAXxUfjzw5fz8AAAAAACCCQFVojhXr9H4/AAAAAAB4gUDGxC5K+9V9PwAAAAAAwHxAcC/+r0eNeD8AAAAAAFB7QBCtZBoEU3c/AAAAAACAd0A1oX+CiBF0PwAAAAAAMHdALPTuCDfNcz8AAAAAAJBzQIq2YCC5tHA/AAAAAABwc0C51yZWZZlwPwAAAAAAwGpAZkJgDAvYZj8AAAAAAKBpQBBtV/AY4mU/AAAAAACAaEC6l07UJuxkPwAAAAAAoGJA2l5dZ4nPXz8AAAAAAABdQBHtcUTvw1g/",
          "dtype": "f8",
          "shape": "51, 2"
         },
         "geo": "geo",
         "hovertemplate": "<b>%{hovertext}</b><br><br>state_name_abrev=%{location}<br>Avistamientos=%{z}<br>pct=%{customdata[1]}<extra></extra>",
         "hovertext": [
          "CA",
          "WA",
          "FL",
          "TX",
          "NY",
          "AZ",
          "IL",
          "PA",
          "OH",
          "MI",
          "NC",
          "OR",
          "MO",
          "CO",
          "NJ",
          "VA",
          "IN",
          "GA",
          "MA",
          "WI",
          "TN",
          "MN",
          "SC",
          "CT",
          "NV",
          "KY",
          "MD",
          "NM",
          "OK",
          "UT",
          "IA",
          "AL",
          "AR",
          "KS",
          "ME",
          "LA",
          "ID",
          "MT",
          "NH",
          "WV",
          "MS",
          "NE",
          "AK",
          "HI",
          "VT",
          "RI",
          "SD",
          "WY",
          "DE",
          "ND",
          "DC"
         ],
         "locationmode": "USA-states",
         "locations": [
          "CA",
          "WA",
          "FL",
          "TX",
          "NY",
          "AZ",
          "IL",
          "PA",
          "OH",
          "MI",
          "NC",
          "OR",
          "MO",
          "CO",
          "NJ",
          "VA",
          "IN",
          "GA",
          "MA",
          "WI",
          "TN",
          "MN",
          "SC",
          "CT",
          "NV",
          "KY",
          "MD",
          "NM",
          "OK",
          "UT",
          "IA",
          "AL",
          "AR",
          "KS",
          "ME",
          "LA",
          "ID",
          "MT",
          "NH",
          "WV",
          "MS",
          "NE",
          "AK",
          "HI",
          "VT",
          "RI",
          "SD",
          "WY",
          "DE",
          "ND",
          "DC"
         ],
         "name": "",
         "type": "choropleth",
         "z": {
          "bdata": "dCgIEtARrw/SDYALMQvVCjUKwQjXB8UHsgZlBlwG9QXaBbkFsgWOBSYFmgSSBAsE4wPfA8ADhwMwAwkD/gLuAskCvgKuAoACXgJJAkQCLwLMAbUBeAFzATkBNwHWAM0AxACVAHQA",
          "dtype": "i2"
         }
        },
        {
         "geo": "geo",
         "lat": [
          36.7783
         ],
         "lon": [
          -119.4179
         ],
         "mode": "text",
         "showlegend": false,
         "text": "13.5%",
         "textfont": {
          "color": "white",
          "size": 9
         },
         "type": "scattergeo"
        },
        {
         "geo": "geo",
         "lat": [
          47.9511
         ],
         "lon": [
          -118.7401
         ],
         "mode": "text",
         "showlegend": false,
         "text": "6.0%",
         "textfont": {
          "color": "white",
          "size": 9
         },
         "type": "scattergeo"
        },
        {
         "geo": "geo",
         "lat": [
          27.6648
         ],
         "lon": [
          -81.5158
         ],
         "mode": "text",
         "showlegend": false,
         "text": "5.9%",
         "textfont": {
          "color": "white",
          "size": 9
         },
         "type": "scattergeo"
        },
        {
         "geo": "geo",
         "lat": [
          31.9686
         ],
         "lon": [
          -99.9018
         ],
         "mode": "text",
         "showlegend": false,
         "text": "5.2%",
         "textfont": {
          "color": "white",
          "size": 9
         },
         "type": "scattergeo"
        },
        {
         "geo": "geo",
         "lat": [
          43
         ],
         "lon": [
          -75.4999
         ],
         "mode": "text",
         "showlegend": false,
         "text": "4.6%",
         "textfont": {
          "color": "white",
          "size": 9
         },
         "type": "scattergeo"
        }
       ],
       "layout": {
        "coloraxis": {
         "colorbar": {
          "title": {
           "text": "Avistamientos"
          }
         },
         "colorscale": [
          [
           0,
           "rgb(247,251,255)"
          ],
          [
           0.125,
           "rgb(222,235,247)"
          ],
          [
           0.25,
           "rgb(198,219,239)"
          ],
          [
           0.375,
           "rgb(158,202,225)"
          ],
          [
           0.5,
           "rgb(107,174,214)"
          ],
          [
           0.625,
           "rgb(66,146,198)"
          ],
          [
           0.75,
           "rgb(33,113,181)"
          ],
          [
           0.875,
           "rgb(8,81,156)"
          ],
          [
           1,
           "rgb(8,48,107)"
          ]
         ]
        },
        "geo": {
         "bgcolor": "#b3d1ff",
         "center": {},
         "domain": {
          "x": [
           0,
           1
          ],
          "y": [
           0,
           1
          ]
         },
         "lakecolor": "#cce5ff",
         "landcolor": "white",
         "scope": "usa",
         "showlakes": true
        },
        "legend": {
         "tracegroupgap": 0
        },
        "margin": {
         "t": 60
        },
        "paper_bgcolor": "white",
        "plot_bgcolor": "white",
        "template": {
         "data": {
          "bar": [
           {
            "error_x": {
             "color": "#2a3f5f"
            },
            "error_y": {
             "color": "#2a3f5f"
            },
            "marker": {
             "line": {
              "color": "#E5ECF6",
              "width": 0.5
             },
             "pattern": {
              "fillmode": "overlay",
              "size": 10,
              "solidity": 0.2
             }
            },
            "type": "bar"
           }
          ],
          "barpolar": [
           {
            "marker": {
             "line": {
              "color": "#E5ECF6",
              "width": 0.5
             },
             "pattern": {
              "fillmode": "overlay",
              "size": 10,
              "solidity": 0.2
             }
            },
            "type": "barpolar"
           }
          ],
          "carpet": [
           {
            "aaxis": {
             "endlinecolor": "#2a3f5f",
             "gridcolor": "white",
             "linecolor": "white",
             "minorgridcolor": "white",
             "startlinecolor": "#2a3f5f"
            },
            "baxis": {
             "endlinecolor": "#2a3f5f",
             "gridcolor": "white",
             "linecolor": "white",
             "minorgridcolor": "white",
             "startlinecolor": "#2a3f5f"
            },
            "type": "carpet"
           }
          ],
          "choropleth": [
           {
            "colorbar": {
             "outlinewidth": 0,
             "ticks": ""
            },
            "type": "choropleth"
           }
          ],
          "contour": [
           {
            "colorbar": {
             "outlinewidth": 0,
             "ticks": ""
            },
            "colorscale": [
             [
              0,
              "#0d0887"
             ],
             [
              0.1111111111111111,
              "#46039f"
             ],
             [
              0.2222222222222222,
              "#7201a8"
             ],
             [
              0.3333333333333333,
              "#9c179e"
             ],
             [
              0.4444444444444444,
              "#bd3786"
             ],
             [
              0.5555555555555556,
              "#d8576b"
             ],
             [
              0.6666666666666666,
              "#ed7953"
             ],
             [
              0.7777777777777778,
              "#fb9f3a"
             ],
             [
              0.8888888888888888,
              "#fdca26"
             ],
             [
              1,
              "#f0f921"
             ]
            ],
            "type": "contour"
           }
          ],
          "contourcarpet": [
           {
            "colorbar": {
             "outlinewidth": 0,
             "ticks": ""
            },
            "type": "contourcarpet"
           }
          ],
          "heatmap": [
           {
            "colorbar": {
             "outlinewidth": 0,
             "ticks": ""
            },
            "colorscale": [
             [
              0,
              "#0d0887"
             ],
             [
              0.1111111111111111,
              "#46039f"
             ],
             [
              0.2222222222222222,
              "#7201a8"
             ],
             [
              0.3333333333333333,
              "#9c179e"
             ],
             [
              0.4444444444444444,
              "#bd3786"
             ],
             [
              0.5555555555555556,
              "#d8576b"
             ],
             [
              0.6666666666666666,
              "#ed7953"
             ],
             [
              0.7777777777777778,
              "#fb9f3a"
             ],
             [
              0.8888888888888888,
              "#fdca26"
             ],
             [
              1,
              "#f0f921"
             ]
            ],
            "type": "heatmap"
           }
          ],
          "histogram": [
           {
            "marker": {
             "pattern": {
              "fillmode": "overlay",
              "size": 10,
              "solidity": 0.2
             }
            },
            "type": "histogram"
           }
          ],
          "histogram2d": [
           {
            "colorbar": {
             "outlinewidth": 0,
             "ticks": ""
            },
            "colorscale": [
             [
              0,
              "#0d0887"
             ],
             [
              0.1111111111111111,
              "#46039f"
             ],
             [
              0.2222222222222222,
              "#7201a8"
             ],
             [
              0.3333333333333333,
              "#9c179e"
             ],
             [
              0.4444444444444444,
              "#bd3786"
             ],
             [
              0.5555555555555556,
              "#d8576b"
             ],
             [
              0.6666666666666666,
              "#ed7953"
             ],
             [
              0.7777777777777778,
              "#fb9f3a"
             ],
             [
              0.8888888888888888,
              "#fdca26"
             ],
             [
              1,
              "#f0f921"
             ]
            ],
            "type": "histogram2d"
           }
          ],
          "histogram2dcontour": [
           {
            "colorbar": {
             "outlinewidth": 0,
             "ticks": ""
            },
            "colorscale": [
             [
              0,
              "#0d0887"
             ],
             [
              0.1111111111111111,
              "#46039f"
             ],
             [
              0.2222222222222222,
              "#7201a8"
             ],
             [
              0.3333333333333333,
              "#9c179e"
             ],
             [
              0.4444444444444444,
              "#bd3786"
             ],
             [
              0.5555555555555556,
              "#d8576b"
             ],
             [
              0.6666666666666666,
              "#ed7953"
             ],
             [
              0.7777777777777778,
              "#fb9f3a"
             ],
             [
              0.8888888888888888,
              "#fdca26"
             ],
             [
              1,
              "#f0f921"
             ]
            ],
            "type": "histogram2dcontour"
           }
          ],
          "mesh3d": [
           {
            "colorbar": {
             "outlinewidth": 0,
             "ticks": ""
            },
            "type": "mesh3d"
           }
          ],
          "parcoords": [
           {
            "line": {
             "colorbar": {
              "outlinewidth": 0,
              "ticks": ""
             }
            },
            "type": "parcoords"
           }
          ],
          "pie": [
           {
            "automargin": true,
            "type": "pie"
           }
          ],
          "scatter": [
           {
            "fillpattern": {
             "fillmode": "overlay",
             "size": 10,
             "solidity": 0.2
            },
            "type": "scatter"
           }
          ],
          "scatter3d": [
           {
            "line": {
             "colorbar": {
              "outlinewidth": 0,
              "ticks": ""
             }
            },
            "marker": {
             "colorbar": {
              "outlinewidth": 0,
              "ticks": ""
             }
            },
            "type": "scatter3d"
           }
          ],
          "scattercarpet": [
           {
            "marker": {
             "colorbar": {
              "outlinewidth": 0,
              "ticks": ""
             }
            },
            "type": "scattercarpet"
           }
          ],
          "scattergeo": [
           {
            "marker": {
             "colorbar": {
              "outlinewidth": 0,
              "ticks": ""
             }
            },
            "type": "scattergeo"
           }
          ],
          "scattergl": [
           {
            "marker": {
             "colorbar": {
              "outlinewidth": 0,
              "ticks": ""
             }
            },
            "type": "scattergl"
           }
          ],
          "scattermap": [
           {
            "marker": {
             "colorbar": {
              "outlinewidth": 0,
              "ticks": ""
             }
            },
            "type": "scattermap"
           }
          ],
          "scattermapbox": [
           {
            "marker": {
             "colorbar": {
              "outlinewidth": 0,
              "ticks": ""
             }
            },
            "type": "scattermapbox"
           }
          ],
          "scatterpolar": [
           {
            "marker": {
             "colorbar": {
              "outlinewidth": 0,
              "ticks": ""
             }
            },
            "type": "scatterpolar"
           }
          ],
          "scatterpolargl": [
           {
            "marker": {
             "colorbar": {
              "outlinewidth": 0,
              "ticks": ""
             }
            },
            "type": "scatterpolargl"
           }
          ],
          "scatterternary": [
           {
            "marker": {
             "colorbar": {
              "outlinewidth": 0,
              "ticks": ""
             }
            },
            "type": "scatterternary"
           }
          ],
          "surface": [
           {
            "colorbar": {
             "outlinewidth": 0,
             "ticks": ""
            },
            "colorscale": [
             [
              0,
              "#0d0887"
             ],
             [
              0.1111111111111111,
              "#46039f"
             ],
             [
              0.2222222222222222,
              "#7201a8"
             ],
             [
              0.3333333333333333,
              "#9c179e"
             ],
             [
              0.4444444444444444,
              "#bd3786"
             ],
             [
              0.5555555555555556,
              "#d8576b"
             ],
             [
              0.6666666666666666,
              "#ed7953"
             ],
             [
              0.7777777777777778,
              "#fb9f3a"
             ],
             [
              0.8888888888888888,
              "#fdca26"
             ],
             [
              1,
              "#f0f921"
             ]
            ],
            "type": "surface"
           }
          ],
          "table": [
           {
            "cells": {
             "fill": {
              "color": "#EBF0F8"
             },
             "line": {
              "color": "white"
             }
            },
            "header": {
             "fill": {
              "color": "#C8D4E3"
             },
             "line": {
              "color": "white"
             }
            },
            "type": "table"
           }
          ]
         },
         "layout": {
          "annotationdefaults": {
           "arrowcolor": "#2a3f5f",
           "arrowhead": 0,
           "arrowwidth": 1
          },
          "autotypenumbers": "strict",
          "coloraxis": {
           "colorbar": {
            "outlinewidth": 0,
            "ticks": ""
           }
          },
          "colorscale": {
           "diverging": [
            [
             0,
             "#8e0152"
            ],
            [
             0.1,
             "#c51b7d"
            ],
            [
             0.2,
             "#de77ae"
            ],
            [
             0.3,
             "#f1b6da"
            ],
            [
             0.4,
             "#fde0ef"
            ],
            [
             0.5,
             "#f7f7f7"
            ],
            [
             0.6,
             "#e6f5d0"
            ],
            [
             0.7,
             "#b8e186"
            ],
            [
             0.8,
             "#7fbc41"
            ],
            [
             0.9,
             "#4d9221"
            ],
            [
             1,
             "#276419"
            ]
           ],
           "sequential": [
            [
             0,
             "#0d0887"
            ],
            [
             0.1111111111111111,
             "#46039f"
            ],
            [
             0.2222222222222222,
             "#7201a8"
            ],
            [
             0.3333333333333333,
             "#9c179e"
            ],
            [
             0.4444444444444444,
             "#bd3786"
            ],
            [
             0.5555555555555556,
             "#d8576b"
            ],
            [
             0.6666666666666666,
             "#ed7953"
            ],
            [
             0.7777777777777778,
             "#fb9f3a"
            ],
            [
             0.8888888888888888,
             "#fdca26"
            ],
            [
             1,
             "#f0f921"
            ]
           ],
           "sequentialminus": [
            [
             0,
             "#0d0887"
            ],
            [
             0.1111111111111111,
             "#46039f"
            ],
            [
             0.2222222222222222,
             "#7201a8"
            ],
            [
             0.3333333333333333,
             "#9c179e"
            ],
            [
             0.4444444444444444,
             "#bd3786"
            ],
            [
             0.5555555555555556,
             "#d8576b"
            ],
            [
             0.6666666666666666,
             "#ed7953"
            ],
            [
             0.7777777777777778,
             "#fb9f3a"
            ],
            [
             0.8888888888888888,
             "#fdca26"
            ],
            [
             1,
             "#f0f921"
            ]
           ]
          },
          "colorway": [
           "#636efa",
           "#EF553B",
           "#00cc96",
           "#ab63fa",
           "#FFA15A",
           "#19d3f3",
           "#FF6692",
           "#B6E880",
           "#FF97FF",
           "#FECB52"
          ],
          "font": {
           "color": "#2a3f5f"
          },
          "geo": {
           "bgcolor": "white",
           "lakecolor": "white",
           "landcolor": "#E5ECF6",
           "showlakes": true,
           "showland": true,
           "subunitcolor": "white"
          },
          "hoverlabel": {
           "align": "left"
          },
          "hovermode": "closest",
          "mapbox": {
           "style": "light"
          },
          "paper_bgcolor": "white",
          "plot_bgcolor": "#E5ECF6",
          "polar": {
           "angularaxis": {
            "gridcolor": "white",
            "linecolor": "white",
            "ticks": ""
           },
           "bgcolor": "#E5ECF6",
           "radialaxis": {
            "gridcolor": "white",
            "linecolor": "white",
            "ticks": ""
           }
          },
          "scene": {
           "xaxis": {
            "backgroundcolor": "#E5ECF6",
            "gridcolor": "white",
            "gridwidth": 2,
            "linecolor": "white",
            "showbackground": true,
            "ticks": "",
            "zerolinecolor": "white"
           },
           "yaxis": {
            "backgroundcolor": "#E5ECF6",
            "gridcolor": "white",
            "gridwidth": 2,
            "linecolor": "white",
            "showbackground": true,
            "ticks": "",
            "zerolinecolor": "white"
           },
           "zaxis": {
            "backgroundcolor": "#E5ECF6",
            "gridcolor": "white",
            "gridwidth": 2,
            "linecolor": "white",
            "showbackground": true,
            "ticks": "",
            "zerolinecolor": "white"
           }
          },
          "shapedefaults": {
           "line": {
            "color": "#2a3f5f"
           }
          },
          "ternary": {
           "aaxis": {
            "gridcolor": "white",
            "linecolor": "white",
            "ticks": ""
           },
           "baxis": {
            "gridcolor": "white",
            "linecolor": "white",
            "ticks": ""
           },
           "bgcolor": "#E5ECF6",
           "caxis": {
            "gridcolor": "white",
            "linecolor": "white",
            "ticks": ""
           }
          },
          "title": {
           "x": 0.05
          },
          "xaxis": {
           "automargin": true,
           "gridcolor": "white",
           "linecolor": "white",
           "ticks": "",
           "title": {
            "standoff": 15
           },
           "zerolinecolor": "white",
           "zerolinewidth": 2
          },
          "yaxis": {
           "automargin": true,
           "gridcolor": "white",
           "linecolor": "white",
           "ticks": "",
           "title": {
            "standoff": 15
           },
           "zerolinecolor": "white",
           "zerolinewidth": 2
          }
         }
        },
        "title": {
         "text": "Avistamientos de OVNIs en EE.UU. por Estado<br><sup>Color por número de avistamientos. Porcentaje mostrado sobre cada estado</sup>",
         "x": 0.5
        }
       }
      }
     },
     "metadata": {},
     "output_type": "display_data"
    }
   ],
   "source": [
    "import plotly.express as px\n",
    "import plotly.graph_objects as go\n",
    "\n",
    "# Agrupar y calcular porcentaje\n",
    "ufo_state_counts = df_ufo[df_ufo['country_code_guess'] == 'US']['state_name_abrev'].value_counts().reset_index()\n",
    "ufo_state_counts.columns = ['state_name_abrev', 'Avistamientos']\n",
    "total_us = ufo_state_counts['Avistamientos'].sum()\n",
    "ufo_state_counts['pct'] = ufo_state_counts['Avistamientos'] / total_us\n",
    "ufo_state_counts['label_pct'] = (ufo_state_counts['pct'] * 100).round(1).astype(str) + '%'\n",
    "\n",
    "# Crear mapa coroplético\n",
    "fig = px.choropleth(\n",
    "    ufo_state_counts,\n",
    "    locations=\"state_name_abrev\",\n",
    "    locationmode=\"USA-states\",\n",
    "    color=\"Avistamientos\",\n",
    "    scope=\"usa\",\n",
    "    color_continuous_scale=\"Blues\",\n",
    "    hover_name=\"state_name_abrev\",\n",
    "    hover_data=['Avistamientos', 'pct']  # solo referencias, sin funciones\n",
    ")\n",
    "\n",
    "# Agregar porcentajes como anotaciones (Scattergeo)\n",
    "state_coords = {\n",
    "    'CA': [-119.4179, 36.7783],\n",
    "    'TX': [-99.9018, 31.9686],\n",
    "    'FL': [-81.5158, 27.6648],\n",
    "    'NY': [-75.4999, 43.0000],\n",
    "    'WA': [-118.7401, 47.9511],\n",
    "    # Agrega más si necesitas precisión por estado\n",
    "}\n",
    "\n",
    "for _, row in ufo_state_counts.iterrows():\n",
    "    abbr = row['state_name_abrev']\n",
    "    if abbr in state_coords:\n",
    "        lon, lat = state_coords[abbr]\n",
    "        fig.add_trace(go.Scattergeo(\n",
    "            lon=[lon],\n",
    "            lat=[lat],\n",
    "            text=row['label_pct'],\n",
    "            mode='text',\n",
    "            textfont=dict(size=9, color=\"white\", ),\n",
    "            showlegend=False,\n",
    "            geo='geo'\n",
    "        ))\n",
    "\n",
    "# Layout\n",
    "fig.update_layout(\n",
    "    title={\n",
    "        'text': \"Avistamientos de OVNIs en EE.UU. por Estado<br><sup>Color por número de avistamientos. Porcentaje mostrado sobre cada estado</sup>\",\n",
    "        'x': 0.5\n",
    "    },\n",
    "    geo=dict(\n",
    "        scope='usa',\n",
    "        bgcolor=\"#b3d1ff\",  # fondo tipo mar\n",
    "        lakecolor=\"#cce5ff\",\n",
    "        landcolor=\"white\",\n",
    "        showlakes=True\n",
    "    ),\n",
    "    paper_bgcolor='white',\n",
    "    plot_bgcolor='white'\n",
    ")\n",
    "\n",
    "fig.show()\n",
    "fig.write_image(\"imagenes/ufo_heatmap_porcentaje.png\", scale=2, width=1200, height=800)"
   ]
  },
  {
   "cell_type": "code",
   "execution_count": 126,
   "metadata": {},
   "outputs": [],
   "source": [
    "df_ufo[['datetime', 'shape', 'duration (seconds)',\n",
    "    'duration (hours/min)', 'comments', 'latitude',\n",
    "    'longitude', 'year_month', 'city_guess', 'admin1_guess', 'admin2_guess', 'country_code_guess',\n",
    "    'country_name_guess', 'state_name_abrev', 'month_name']].to_csv('df_ufo.csv')"
   ]
  },
  {
   "cell_type": "markdown",
   "metadata": {},
   "source": [
    "### Correlaciones"
   ]
  },
  {
   "cell_type": "code",
   "execution_count": 136,
   "metadata": {},
   "outputs": [],
   "source": [
    "df_ufo[df_ufo['country_code_guess'] == 'US']['admin1_guess'].value_counts().reset_index().to_clipboard()"
   ]
  },
  {
   "cell_type": "code",
   "execution_count": 129,
   "metadata": {},
   "outputs": [
    {
     "data": {
      "image/png": "[encoded data removed]",
      "text/plain": [
       "<Figure size 800x600 with 1 Axes>"
      ]
     },
     "metadata": {},
     "output_type": "display_data"
    }
   ],
   "source": [
    "# Lista de estados costeros en EE.UU.\n",
    "estados_costeros = [\n",
    "    'California', 'Oregon', 'Washington', 'Florida', 'Georgia', 'South Carolina', 'North Carolina',\n",
    "    'Virginia', 'Maryland', 'Delaware', 'New Jersey', 'New York', 'Connecticut', 'Rhode Island',\n",
    "    'Massachusetts', 'New Hampshire', 'Maine', 'Texas', 'Alabama', 'Mississippi', 'Louisiana', 'Alaska',\n",
    "    'Hawaii'\n",
    "]\n",
    "\n",
    "# Clasificación nueva\n",
    "df_ufo[\"region_us\"] = df_ufo[\"admin1_guess\"].apply(\n",
    "    lambda x: \"Costera\" if x in estados_costeros else (\"Interior\" if pd.notna(x) else None)\n",
    ")\n",
    "\n",
    "# Filtrar solo EE.UU.\n",
    "mask_us = df_ufo[\"country_code_guess\"] == \"US\"\n",
    "conteo_region = df_ufo[mask_us & df_ufo[\"region_us\"].notna()][\"region_us\"].value_counts()\n",
    "\n",
    "# Gráfico\n",
    "plt.figure(figsize=(8, 6))\n",
    "bars = plt.bar(conteo_region.index, conteo_region.values, color=[\"steelblue\", \"lightblue\"])\n",
    "for i, value in enumerate(conteo_region.values):\n",
    "    plt.text(i, value + max(conteo_region.values)*0.02, f\"{value:,}\", ha='center', fontsize=12)\n",
    "\n",
    "plt.title(\"Avistamientos de OVNIs en EE.UU.: Costero vs Interior\", fontsize=14)\n",
    "plt.ylabel(\"Número de Avistamientos\")\n",
    "plt.tight_layout()\n",
    "plt.savefig(\"imagenes/bar_ovnis_costero_interior.png\", dpi=300)\n",
    "plt.show()"
   ]
  },
  {
   "cell_type": "code",
   "execution_count": 149,
   "metadata": {},
   "outputs": [],
   "source": [
    "population_usa = pd.read_csv('US_Population2024.csv')\n",
    "population_usa.columns = ['state', 'population']\n",
    "df_count_state = df_ufo[df_ufo['country_code_guess'] == 'US']['admin1_guess'].value_counts().reset_index()\n",
    "df_count_state.columns = ['state', 'avistamientos']\n",
    "df_count_state = df_count_state.merge(population_usa, how='left', on='state')"
   ]
  },
  {
   "cell_type": "code",
   "execution_count": 160,
   "metadata": {},
   "outputs": [
    {
     "data": {
      "image/png": "[encoded data removed]",
      "text/plain": [
       "<Figure size 1000x600 with 1 Axes>"
      ]
     },
     "metadata": {},
     "output_type": "display_data"
    }
   ],
   "source": [
    "import matplotlib.pyplot as plt\n",
    "import seaborn as sns\n",
    "\n",
    "# Estilo general\n",
    "sns.set_theme(style=\"whitegrid\")\n",
    "\n",
    "# Crear gráfico de dispersión\n",
    "plt.figure(figsize=(10, 6))\n",
    "sns.regplot(data=df_count_state, x='population', y='avistamientos', scatter_kws={'s': 60, 'alpha': 0.7}, color=\"navy\", line_kws={\"color\": \"darkred\"})\n",
    "\n",
    "plt.title(\"Relación entre Población y Avistamientos OVNIs por Estado\", fontsize=14)\n",
    "plt.xlabel(\"Población del Estado\", fontsize=12)\n",
    "plt.ylabel(\"Número de Avistamientos\", fontsize=12)\n",
    "plt.tight_layout()\n",
    "\n",
    "# Guardar imagen\n",
    "plt.savefig(\"imagenes/scatter_poblacion_avistamientos.png\", dpi=300)\n",
    "plt.show()"
   ]
  },
  {
   "cell_type": "code",
   "execution_count": 170,
   "metadata": {},
   "outputs": [
    {
     "name": "stdout",
     "output_type": "stream",
     "text": [
      "Coeficiente de correlación (Pearson): 0.91\n",
      "Valor p: 0.0000\n"
     ]
    }
   ],
   "source": [
    "from scipy.stats import pearsonr\n",
    "\n",
    "# Calcular coeficiente de correlación de Pearson\n",
    "corr, pval = pearsonr(df_count_state['population'], df_count_state['avistamientos'])\n",
    "\n",
    "print(f\"Coeficiente de correlación (Pearson): {corr:.2f}\")\n",
    "print(f\"Valor p: {pval:.4f}\")"
   ]
  },
  {
   "cell_type": "markdown",
   "metadata": {},
   "source": [
    "### Forma de los avistamientos"
   ]
  },
  {
   "cell_type": "code",
   "execution_count": 157,
   "metadata": {},
   "outputs": [
    {
     "data": {
      "image/png": "[encoded data removed]",
      "text/plain": [
       "<Figure size 1200x600 with 1 Axes>"
      ]
     },
     "metadata": {},
     "output_type": "display_data"
    }
   ],
   "source": [
    "import matplotlib.pyplot as plt\n",
    "import seaborn as sns\n",
    "\n",
    "# Crear conteo de formas más comunes\n",
    "conteo_formas = df_ufo['shape'].value_counts().head(10)\n",
    "\n",
    "# Crear gráfico\n",
    "plt.figure(figsize=(12, 6))\n",
    "sns.barplot(x=conteo_formas.index, y=conteo_formas.values, color='dodgerblue')\n",
    "\n",
    "# Ajustes estéticos\n",
    "plt.title('Formas más comunes descritas en los avistamientos de OVNIs', fontsize=16)\n",
    "plt.xlabel('Forma descrita', fontsize=12)\n",
    "plt.ylabel('Número de avistamientos', fontsize=12)\n",
    "plt.xticks(rotation=45)\n",
    "sns.despine()  # Elimina los bordes superior y derecho\n",
    "plt.grid(False)  # Quita las líneas de fondo\n",
    "\n",
    "# Guardar imagen\n",
    "plt.tight_layout()\n",
    "plt.savefig(\"imagenes/ovnis_formas_mas_comunes.png\", dpi=300)\n",
    "plt.show()"
   ]
  }
 ],
 "metadata": {
  "kernelspec": {
   "display_name": "Python 3",
   "language": "python",
   "name": "python3"
  },
  "language_info": {
   "codemirror_mode": {
    "name": "ipython",
    "version": 3
   },
   "file_extension": ".py",
   "mimetype": "text/x-python",
   "name": "python",
   "nbconvert_exporter": "python",
   "pygments_lexer": "ipython3",
   "version": "3.13.5"
  }
 },
 "nbformat": 4,
 "nbformat_minor": 2
}
